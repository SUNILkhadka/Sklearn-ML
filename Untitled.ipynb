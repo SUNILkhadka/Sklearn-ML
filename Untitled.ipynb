{
 "cells": [
  {
   "cell_type": "code",
   "execution_count": 1,
   "id": "c8dc5253-16f8-4c31-a447-5d2e481a2a60",
   "metadata": {},
   "outputs": [],
   "source": [
    "import pandas as pd"
   ]
  },
  {
   "cell_type": "code",
   "execution_count": 2,
   "id": "f53a0cd1-9a9b-436d-a3b1-bc160230227f",
   "metadata": {},
   "outputs": [],
   "source": [
    "df = pd.read_csv('car.data')"
   ]
  },
  {
   "cell_type": "code",
   "execution_count": null,
   "id": "5c2fa7b9-6f40-43ce-9609-793ac2d9dfd0",
   "metadata": {},
   "outputs": [],
   "source": []
  }
 ],
 "metadata": {
  "kernelspec": {
   "display_name": "Python 3",
   "language": "python",
   "name": "python3"
  },
  "language_info": {
   "codemirror_mode": {
    "name": "ipython",
    "version": 3
   },
   "file_extension": ".py",
   "mimetype": "text/x-python",
   "name": "python",
   "nbconvert_exporter": "python",
   "pygments_lexer": "ipython3",
   "version": "3.8.11"
  }
 },
 "nbformat": 4,
 "nbformat_minor": 5
}

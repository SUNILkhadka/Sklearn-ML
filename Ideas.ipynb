{
 "cells": [
  {
   "cell_type": "code",
   "execution_count": 1,
   "id": "553aeb22-f45d-4e5c-9b23-af4f7903884f",
   "metadata": {},
   "outputs": [],
   "source": [
    "import pandas as pd\n",
    "import numpy as np\n",
    "import matplotlib.pyplot as plt \n",
    "import seaborn as sns"
   ]
  },
  {
   "cell_type": "markdown",
   "id": "177786f3-7040-45a2-9d55-148fcb71ce67",
   "metadata": {},
   "source": [
    "# Two ways to transform data \n",
    "----"
   ]
  },
  {
   "cell_type": "code",
   "execution_count": null,
   "id": "730b498a-e202-439d-9475-6ba99aa8ae97",
   "metadata": {},
   "outputs": [],
   "source": [
    "df = pd.read_csv(\"data/car-sales-extended.csv\")"
   ]
  },
  {
   "cell_type": "code",
   "execution_count": null,
   "id": "7165d784-140e-415f-a6b4-9bf5c2a820e2",
   "metadata": {},
   "outputs": [],
   "source": [
    "df.head()"
   ]
  },
  {
   "cell_type": "markdown",
   "id": "31348e78-93de-4333-9a3b-b23c6ad2454d",
   "metadata": {},
   "source": [
    "* First way using OneHotEncoder & ColumnTransformer"
   ]
  },
  {
   "cell_type": "code",
   "execution_count": null,
   "id": "7ee76b69-caef-4088-af90-ef5efbfb4a71",
   "metadata": {
    "tags": []
   },
   "outputs": [],
   "source": [
    "from sklearn.preprocessing import OneHotEncoder\n",
    "from sklearn.compose import ColumnTransformer\n",
    "catogery = [\"Make\",\"Colour\",\"Doors\"]\n",
    "one_hot  = OneHotEncoder()\n",
    "transformer = ColumnTransformer([(\"one hot\",one_hot,catogery)],remainder=\"passthrough\")\n",
    "\n",
    "transformed_x = transformer.fit_transform(df)"
   ]
  },
  {
   "cell_type": "code",
   "execution_count": null,
   "id": "84b20acc-2442-42c7-9450-5d7c2065259d",
   "metadata": {
    "jupyter": {
     "source_hidden": true
    },
    "tags": []
   },
   "outputs": [],
   "source": [
    "trans_df = pd.DataFrame(transformed_x,columns=[dummy_data.columns])"
   ]
  },
  {
   "cell_type": "code",
   "execution_count": null,
   "id": "db746d14-6f98-4d3f-884b-1bcb4cbf80e2",
   "metadata": {
    "jupyter": {
     "source_hidden": true
    },
    "tags": []
   },
   "outputs": [],
   "source": [
    "trans_df"
   ]
  },
  {
   "cell_type": "markdown",
   "id": "c7846bd0-e8fb-40d5-9e07-a127c03deea6",
   "metadata": {},
   "source": [
    "* Second Way using pandas get_dummies() function"
   ]
  },
  {
   "cell_type": "code",
   "execution_count": null,
   "id": "5d5f79c9-f163-4d6f-b140-4f0b3ae3b818",
   "metadata": {
    "jupyter": {
     "source_hidden": true
    },
    "tags": []
   },
   "outputs": [],
   "source": [
    "dummy_data = pd.get_dummies(df,columns=[\"Make\",\"Colour\",\"Doors\"])\n",
    "dummy_data"
   ]
  },
  {
   "cell_type": "code",
   "execution_count": null,
   "id": "bc582be3-3636-4b45-8323-f0979cf96d76",
   "metadata": {
    "jupyter": {
     "source_hidden": true
    },
    "tags": []
   },
   "outputs": [],
   "source": [
    "dummy_data.drop([\"Odometer (KM)\",\"Price\"],axis=1)\n",
    "trans_df.drop([\"Odometer (KM)\",\"Price\"],axis=1)"
   ]
  },
  {
   "cell_type": "markdown",
   "id": "fd88a543-bab5-4b80-bcc5-1cf3055a64d4",
   "metadata": {},
   "source": [
    "# Confusion Matrix\n",
    "----"
   ]
  },
  {
   "cell_type": "code",
   "execution_count": 2,
   "id": "473dfdc1-e3e3-41e3-a7d1-a0d9ad16e22c",
   "metadata": {},
   "outputs": [],
   "source": [
    "from sklearn.linear_model import LogisticRegression,SGDClassifier\n",
    "from sklearn.tree import DecisionTreeClassifier\n",
    "from sklearn.ensemble import RandomForestClassifier\n",
    "from sklearn.metrics import RocCurveDisplay,roc_curve,roc_auc_score\n",
    "from sklearn.model_selection import train_test_split"
   ]
  },
  {
   "cell_type": "code",
   "execution_count": 3,
   "id": "1b4772e7-5a19-4272-b2dc-531ec3284d52",
   "metadata": {
    "collapsed": true,
    "jupyter": {
     "outputs_hidden": true
    },
    "tags": []
   },
   "outputs": [
    {
     "data": {
      "text/html": [
       "<div>\n",
       "<style scoped>\n",
       "    .dataframe tbody tr th:only-of-type {\n",
       "        vertical-align: middle;\n",
       "    }\n",
       "\n",
       "    .dataframe tbody tr th {\n",
       "        vertical-align: top;\n",
       "    }\n",
       "\n",
       "    .dataframe thead th {\n",
       "        text-align: right;\n",
       "    }\n",
       "</style>\n",
       "<table border=\"1\" class=\"dataframe\">\n",
       "  <thead>\n",
       "    <tr style=\"text-align: right;\">\n",
       "      <th></th>\n",
       "      <th>Age</th>\n",
       "      <th>BMI</th>\n",
       "      <th>Glucose</th>\n",
       "      <th>Insulin</th>\n",
       "      <th>HOMA</th>\n",
       "      <th>Leptin</th>\n",
       "      <th>Adiponectin</th>\n",
       "      <th>Resistin</th>\n",
       "      <th>MCP.1</th>\n",
       "      <th>Classification</th>\n",
       "    </tr>\n",
       "  </thead>\n",
       "  <tbody>\n",
       "    <tr>\n",
       "      <th>73</th>\n",
       "      <td>72</td>\n",
       "      <td>23.620000</td>\n",
       "      <td>105</td>\n",
       "      <td>4.420</td>\n",
       "      <td>1.144780</td>\n",
       "      <td>21.7800</td>\n",
       "      <td>17.860000</td>\n",
       "      <td>4.82000</td>\n",
       "      <td>195.940</td>\n",
       "      <td>2</td>\n",
       "    </tr>\n",
       "    <tr>\n",
       "      <th>102</th>\n",
       "      <td>65</td>\n",
       "      <td>30.915577</td>\n",
       "      <td>97</td>\n",
       "      <td>10.491</td>\n",
       "      <td>2.510147</td>\n",
       "      <td>44.0217</td>\n",
       "      <td>3.710090</td>\n",
       "      <td>20.46850</td>\n",
       "      <td>396.648</td>\n",
       "      <td>2</td>\n",
       "    </tr>\n",
       "    <tr>\n",
       "      <th>14</th>\n",
       "      <td>38</td>\n",
       "      <td>23.340000</td>\n",
       "      <td>75</td>\n",
       "      <td>5.782</td>\n",
       "      <td>1.069670</td>\n",
       "      <td>15.2600</td>\n",
       "      <td>17.950000</td>\n",
       "      <td>9.35000</td>\n",
       "      <td>165.020</td>\n",
       "      <td>1</td>\n",
       "    </tr>\n",
       "    <tr>\n",
       "      <th>96</th>\n",
       "      <td>44</td>\n",
       "      <td>27.887617</td>\n",
       "      <td>99</td>\n",
       "      <td>9.208</td>\n",
       "      <td>2.248594</td>\n",
       "      <td>12.6757</td>\n",
       "      <td>5.478170</td>\n",
       "      <td>23.03306</td>\n",
       "      <td>407.206</td>\n",
       "      <td>2</td>\n",
       "    </tr>\n",
       "    <tr>\n",
       "      <th>59</th>\n",
       "      <td>62</td>\n",
       "      <td>22.656250</td>\n",
       "      <td>92</td>\n",
       "      <td>3.482</td>\n",
       "      <td>0.790182</td>\n",
       "      <td>9.8648</td>\n",
       "      <td>11.236235</td>\n",
       "      <td>10.69548</td>\n",
       "      <td>703.973</td>\n",
       "      <td>2</td>\n",
       "    </tr>\n",
       "  </tbody>\n",
       "</table>\n",
       "</div>"
      ],
      "text/plain": [
       "     Age        BMI  Glucose  Insulin      HOMA   Leptin  Adiponectin  \\\n",
       "73    72  23.620000      105    4.420  1.144780  21.7800    17.860000   \n",
       "102   65  30.915577       97   10.491  2.510147  44.0217     3.710090   \n",
       "14    38  23.340000       75    5.782  1.069670  15.2600    17.950000   \n",
       "96    44  27.887617       99    9.208  2.248594  12.6757     5.478170   \n",
       "59    62  22.656250       92    3.482  0.790182   9.8648    11.236235   \n",
       "\n",
       "     Resistin    MCP.1  Classification  \n",
       "73    4.82000  195.940               2  \n",
       "102  20.46850  396.648               2  \n",
       "14    9.35000  165.020               1  \n",
       "96   23.03306  407.206               2  \n",
       "59   10.69548  703.973               2  "
      ]
     },
     "execution_count": 3,
     "metadata": {},
     "output_type": "execute_result"
    }
   ],
   "source": [
    "breast_df = pd.read_csv(\"data/dataR2.csv\")\n",
    "breast_df.sample(5)"
   ]
  },
  {
   "cell_type": "markdown",
   "id": "c59dfd3c-786b-4c2d-bcca-613e31678ced",
   "metadata": {},
   "source": [
    "* Details about data"
   ]
  },
  {
   "cell_type": "code",
   "execution_count": 12,
   "id": "214c26fe-f120-4c75-b576-9c8dba26608c",
   "metadata": {
    "jupyter": {
     "source_hidden": true
    },
    "tags": []
   },
   "outputs": [],
   "source": [
    "about_data = \"There are 10 predictors, all quantitative, and a binary dependent variable, indicating the presence or absence of breast cancer.The predictors are anthropometric data and parameters which can be gathered in routine blood analysis.Prediction models based on these predictors, if accurate, can potentially be used as a biomarker of breast cancer.\"\n",
    "string = about_data.split(sep='.')\n",
    "feature = \"Features:. Age (years).BMI (kg/m2). Glucose (mg/dL)Insulin (µU/mL).HOMA.Leptin (ng/mL).Adiponectin (µg/mL).Resistin (ng/mL).MCP-1(pg/dL)\"\n",
    "labels = \"Labels:.1=Healthy controls.2=Patients\"\n",
    "about = {\n",
    "    'Details': (feature.split('.'),labels.split('.')),\n",
    "    'Info': string\n",
    "}\n",
    "y = []\n",
    "for x in about:\n",
    "    y.append(str(about[x]))\n",
    "    print(y)\n",
    "with open(\"data/Breast_cancer_info.txt\",'w') as f:\n",
    "    f.write(str(y))"
   ]
  },
  {
   "cell_type": "code",
   "execution_count": null,
   "id": "18924ec6-536f-4c5d-8b76-11329506c82d",
   "metadata": {
    "jupyter": {
     "source_hidden": true
    },
    "tags": []
   },
   "outputs": [],
   "source": [
    "1 : healthy = 0\n",
    "2 : Breast patient = 1"
   ]
  },
  {
   "cell_type": "code",
   "execution_count": 4,
   "id": "6e91f56c-1701-475c-b8db-54a38edd8b54",
   "metadata": {
    "jupyter": {
     "source_hidden": true
    },
    "tags": []
   },
   "outputs": [],
   "source": [
    "breast_df['Classification'] = breast_df['Classification'].replace({1:0,2:1})"
   ]
  },
  {
   "cell_type": "code",
   "execution_count": 5,
   "id": "1258f0f3-7c8b-4a96-b98b-0691ed1fb1ff",
   "metadata": {
    "collapsed": true,
    "jupyter": {
     "outputs_hidden": true,
     "source_hidden": true
    },
    "tags": []
   },
   "outputs": [
    {
     "data": {
      "text/html": [
       "<div>\n",
       "<style scoped>\n",
       "    .dataframe tbody tr th:only-of-type {\n",
       "        vertical-align: middle;\n",
       "    }\n",
       "\n",
       "    .dataframe tbody tr th {\n",
       "        vertical-align: top;\n",
       "    }\n",
       "\n",
       "    .dataframe thead th {\n",
       "        text-align: right;\n",
       "    }\n",
       "</style>\n",
       "<table border=\"1\" class=\"dataframe\">\n",
       "  <thead>\n",
       "    <tr style=\"text-align: right;\">\n",
       "      <th></th>\n",
       "      <th>Age</th>\n",
       "      <th>BMI</th>\n",
       "      <th>Glucose</th>\n",
       "      <th>Insulin</th>\n",
       "      <th>HOMA</th>\n",
       "      <th>Leptin</th>\n",
       "      <th>Adiponectin</th>\n",
       "      <th>Resistin</th>\n",
       "      <th>MCP.1</th>\n",
       "      <th>Classification</th>\n",
       "    </tr>\n",
       "  </thead>\n",
       "  <tbody>\n",
       "    <tr>\n",
       "      <th>0</th>\n",
       "      <td>48</td>\n",
       "      <td>23.500000</td>\n",
       "      <td>70</td>\n",
       "      <td>2.707</td>\n",
       "      <td>0.467409</td>\n",
       "      <td>8.8071</td>\n",
       "      <td>9.702400</td>\n",
       "      <td>7.99585</td>\n",
       "      <td>417.114</td>\n",
       "      <td>0</td>\n",
       "    </tr>\n",
       "    <tr>\n",
       "      <th>1</th>\n",
       "      <td>83</td>\n",
       "      <td>20.690495</td>\n",
       "      <td>92</td>\n",
       "      <td>3.115</td>\n",
       "      <td>0.706897</td>\n",
       "      <td>8.8438</td>\n",
       "      <td>5.429285</td>\n",
       "      <td>4.06405</td>\n",
       "      <td>468.786</td>\n",
       "      <td>0</td>\n",
       "    </tr>\n",
       "    <tr>\n",
       "      <th>2</th>\n",
       "      <td>82</td>\n",
       "      <td>23.124670</td>\n",
       "      <td>91</td>\n",
       "      <td>4.498</td>\n",
       "      <td>1.009651</td>\n",
       "      <td>17.9393</td>\n",
       "      <td>22.432040</td>\n",
       "      <td>9.27715</td>\n",
       "      <td>554.697</td>\n",
       "      <td>0</td>\n",
       "    </tr>\n",
       "    <tr>\n",
       "      <th>3</th>\n",
       "      <td>68</td>\n",
       "      <td>21.367521</td>\n",
       "      <td>77</td>\n",
       "      <td>3.226</td>\n",
       "      <td>0.612725</td>\n",
       "      <td>9.8827</td>\n",
       "      <td>7.169560</td>\n",
       "      <td>12.76600</td>\n",
       "      <td>928.220</td>\n",
       "      <td>0</td>\n",
       "    </tr>\n",
       "    <tr>\n",
       "      <th>4</th>\n",
       "      <td>86</td>\n",
       "      <td>21.111111</td>\n",
       "      <td>92</td>\n",
       "      <td>3.549</td>\n",
       "      <td>0.805386</td>\n",
       "      <td>6.6994</td>\n",
       "      <td>4.819240</td>\n",
       "      <td>10.57635</td>\n",
       "      <td>773.920</td>\n",
       "      <td>0</td>\n",
       "    </tr>\n",
       "    <tr>\n",
       "      <th>...</th>\n",
       "      <td>...</td>\n",
       "      <td>...</td>\n",
       "      <td>...</td>\n",
       "      <td>...</td>\n",
       "      <td>...</td>\n",
       "      <td>...</td>\n",
       "      <td>...</td>\n",
       "      <td>...</td>\n",
       "      <td>...</td>\n",
       "      <td>...</td>\n",
       "    </tr>\n",
       "    <tr>\n",
       "      <th>111</th>\n",
       "      <td>45</td>\n",
       "      <td>26.850000</td>\n",
       "      <td>92</td>\n",
       "      <td>3.330</td>\n",
       "      <td>0.755688</td>\n",
       "      <td>54.6800</td>\n",
       "      <td>12.100000</td>\n",
       "      <td>10.96000</td>\n",
       "      <td>268.230</td>\n",
       "      <td>1</td>\n",
       "    </tr>\n",
       "    <tr>\n",
       "      <th>112</th>\n",
       "      <td>62</td>\n",
       "      <td>26.840000</td>\n",
       "      <td>100</td>\n",
       "      <td>4.530</td>\n",
       "      <td>1.117400</td>\n",
       "      <td>12.4500</td>\n",
       "      <td>21.420000</td>\n",
       "      <td>7.32000</td>\n",
       "      <td>330.160</td>\n",
       "      <td>1</td>\n",
       "    </tr>\n",
       "    <tr>\n",
       "      <th>113</th>\n",
       "      <td>65</td>\n",
       "      <td>32.050000</td>\n",
       "      <td>97</td>\n",
       "      <td>5.730</td>\n",
       "      <td>1.370998</td>\n",
       "      <td>61.4800</td>\n",
       "      <td>22.540000</td>\n",
       "      <td>10.33000</td>\n",
       "      <td>314.050</td>\n",
       "      <td>1</td>\n",
       "    </tr>\n",
       "    <tr>\n",
       "      <th>114</th>\n",
       "      <td>72</td>\n",
       "      <td>25.590000</td>\n",
       "      <td>82</td>\n",
       "      <td>2.820</td>\n",
       "      <td>0.570392</td>\n",
       "      <td>24.9600</td>\n",
       "      <td>33.750000</td>\n",
       "      <td>3.27000</td>\n",
       "      <td>392.460</td>\n",
       "      <td>1</td>\n",
       "    </tr>\n",
       "    <tr>\n",
       "      <th>115</th>\n",
       "      <td>86</td>\n",
       "      <td>27.180000</td>\n",
       "      <td>138</td>\n",
       "      <td>19.910</td>\n",
       "      <td>6.777364</td>\n",
       "      <td>90.2800</td>\n",
       "      <td>14.110000</td>\n",
       "      <td>4.35000</td>\n",
       "      <td>90.090</td>\n",
       "      <td>1</td>\n",
       "    </tr>\n",
       "  </tbody>\n",
       "</table>\n",
       "<p>116 rows × 10 columns</p>\n",
       "</div>"
      ],
      "text/plain": [
       "     Age        BMI  Glucose  Insulin      HOMA   Leptin  Adiponectin  \\\n",
       "0     48  23.500000       70    2.707  0.467409   8.8071     9.702400   \n",
       "1     83  20.690495       92    3.115  0.706897   8.8438     5.429285   \n",
       "2     82  23.124670       91    4.498  1.009651  17.9393    22.432040   \n",
       "3     68  21.367521       77    3.226  0.612725   9.8827     7.169560   \n",
       "4     86  21.111111       92    3.549  0.805386   6.6994     4.819240   \n",
       "..   ...        ...      ...      ...       ...      ...          ...   \n",
       "111   45  26.850000       92    3.330  0.755688  54.6800    12.100000   \n",
       "112   62  26.840000      100    4.530  1.117400  12.4500    21.420000   \n",
       "113   65  32.050000       97    5.730  1.370998  61.4800    22.540000   \n",
       "114   72  25.590000       82    2.820  0.570392  24.9600    33.750000   \n",
       "115   86  27.180000      138   19.910  6.777364  90.2800    14.110000   \n",
       "\n",
       "     Resistin    MCP.1  Classification  \n",
       "0     7.99585  417.114               0  \n",
       "1     4.06405  468.786               0  \n",
       "2     9.27715  554.697               0  \n",
       "3    12.76600  928.220               0  \n",
       "4    10.57635  773.920               0  \n",
       "..        ...      ...             ...  \n",
       "111  10.96000  268.230               1  \n",
       "112   7.32000  330.160               1  \n",
       "113  10.33000  314.050               1  \n",
       "114   3.27000  392.460               1  \n",
       "115   4.35000   90.090               1  \n",
       "\n",
       "[116 rows x 10 columns]"
      ]
     },
     "execution_count": 5,
     "metadata": {},
     "output_type": "execute_result"
    }
   ],
   "source": [
    "breast_df"
   ]
  },
  {
   "cell_type": "markdown",
   "id": "760abf0c-ff42-4d48-a109-6dd839b9dcb1",
   "metadata": {},
   "source": [
    "* Splitting the data .. "
   ]
  },
  {
   "cell_type": "code",
   "execution_count": 6,
   "id": "649599ef-9875-412b-a4e4-b7d15a7bb1ff",
   "metadata": {
    "jupyter": {
     "source_hidden": true
    },
    "tags": []
   },
   "outputs": [],
   "source": [
    "X_train,X_test,y_train,y_test = train_test_split(breast_df.drop('Classification',axis=1),\n",
    "                                                 breast_df['Classification'],\n",
    "                                                 random_state=101,\n",
    "                                                 test_size=0.3)\n",
    "log = LogisticRegression(max_iter=100,random_state=101)\n",
    "sgd = SGDClassifier(max_iter=100,random_state=101)\n",
    "dtree = DecisionTreeClassifier(random_state=101)\n",
    "forest = RandomForestClassifier(n_estimators=100,random_state=101)"
   ]
  },
  {
   "cell_type": "markdown",
   "id": "7adf848e-1341-47e2-9ea1-45f088a72428",
   "metadata": {},
   "source": [
    "* Training the models and predicting probability matrix"
   ]
  },
  {
   "cell_type": "code",
   "execution_count": 8,
   "id": "abcd3f61-c0c6-4f8f-9387-ecd0746ace6b",
   "metadata": {
    "collapsed": true,
    "jupyter": {
     "outputs_hidden": true,
     "source_hidden": true
    },
    "tags": []
   },
   "outputs": [
    {
     "name": "stderr",
     "output_type": "stream",
     "text": [
      "/home/Bing0/anaconda3/lib/python3.8/site-packages/sklearn/linear_model/_logistic.py:763: ConvergenceWarning: lbfgs failed to converge (status=1):\n",
      "STOP: TOTAL NO. of ITERATIONS REACHED LIMIT.\n",
      "\n",
      "Increase the number of iterations (max_iter) or scale the data as shown in:\n",
      "    https://scikit-learn.org/stable/modules/preprocessing.html\n",
      "Please also refer to the documentation for alternative solver options:\n",
      "    https://scikit-learn.org/stable/modules/linear_model.html#logistic-regression\n",
      "  n_iter_i = _check_optimize_result(\n"
     ]
    }
   ],
   "source": [
    "log.fit(X_train,y_train)\n",
    "log_pb = log.predict_proba(X_test)[:,1]\n",
    "log_pred = log.predict(X_test)\n",
    "\n",
    "sgd.fit(X_train,y_train)\n",
    "# sgd_pb = sgd.predict_proba(X_test)\n",
    "sgd_pred = sgd.predict(X_test)\n",
    "\n",
    "dtree.fit(X_train,y_train)\n",
    "dtree_pb = dtree.predict_proba(X_test)\n",
    "dtree_pred = dtree.predict(X_test)\n",
    "\n",
    "forest.fit(X_train,y_train)\n",
    "forest_pb = forest.predict_proba(X_test)\n",
    "forest_pred = forest.predict(X_test)\n"
   ]
  },
  {
   "cell_type": "code",
   "execution_count": 95,
   "id": "bd3234bb-e645-491c-8daf-bff447894cc3",
   "metadata": {
    "collapsed": true,
    "jupyter": {
     "outputs_hidden": true,
     "source_hidden": true
    },
    "tags": []
   },
   "outputs": [
    {
     "name": "stdout",
     "output_type": "stream",
     "text": [
      "0.7500000000000001\n",
      "[0.         0.21428571 1.        ] [0.         0.71428571 1.        ] [2 1 0]\n"
     ]
    }
   ],
   "source": [
    "print(roc_auc_score(y_test_int, log_pred))\n",
    "fpr_lr, tpr_lr, thresholds_lr = roc_curve(y_test_int, log_pred)\n",
    "print(fpr_lr, tpr_lr, thresholds_lr)"
   ]
  },
  {
   "cell_type": "code",
   "execution_count": 10,
   "id": "ad5ac95b-b03d-4c7b-aa21-432e963ae7cd",
   "metadata": {
    "collapsed": true,
    "jupyter": {
     "outputs_hidden": true,
     "source_hidden": true
    },
    "tags": []
   },
   "outputs": [
    {
     "name": "stdout",
     "output_type": "stream",
     "text": [
      "0.7925170068027211\n",
      "[0.         0.         0.         0.07142857 0.07142857 0.14285714\n",
      " 0.14285714 0.21428571 0.21428571 0.35714286 0.35714286 0.64285714\n",
      " 0.64285714 0.85714286 0.85714286 1.        ] [0.         0.04761905 0.28571429 0.28571429 0.57142857 0.57142857\n",
      " 0.66666667 0.66666667 0.71428571 0.71428571 0.85714286 0.85714286\n",
      " 0.9047619  0.9047619  1.         1.        ] [1.99749923 0.99749923 0.94953741 0.94586901 0.69744637 0.68345709\n",
      " 0.62138318 0.59733531 0.52493583 0.45096785 0.42035373 0.32971005\n",
      " 0.30427813 0.21051878 0.1579329  0.08808352]\n"
     ]
    }
   ],
   "source": [
    "print(roc_auc_score(y_test, log_pb))\n",
    "auc_lor = roc_auc_score(y_test, log_pb)\n",
    "fpr_lor, tpr_lor, thresholds_lor = roc_curve(y_test, log_pb)\n",
    "print(fpr_lor, tpr_lor, thresholds_lor)"
   ]
  },
  {
   "cell_type": "code",
   "execution_count": 124,
   "id": "0404074a-1be2-469c-b61f-da40ae2f2842",
   "metadata": {
    "tags": []
   },
   "outputs": [],
   "source": [
    "y_test_int = y_test.replace({1:0,2:1})"
   ]
  },
  {
   "cell_type": "code",
   "execution_count": 12,
   "id": "191a41c1-fe5a-4747-866f-96c005090bce",
   "metadata": {
    "jupyter": {
     "source_hidden": true
    },
    "tags": []
   },
   "outputs": [],
   "source": [
    "\n",
    "auc_lr = roc_auc_score(y_test, log_pred)\n",
    "fpr_lr, tpr_lr, thresholds_lr = roc_curve(y_test, log_pred)\n",
    "\n",
    "auc_sg = roc_auc_score(y_test, sgd_pred)\n",
    "fpr_sg, tpr_sg, thresholds_sg = roc_curve(y_test, sgd_pred)\n",
    "\n",
    "auc_dt = roc_auc_score(y_test, dtree_pred)\n",
    "fpr_dt, tpr_dt, thresholds_dt = roc_curve(y_test, dtree_pred)\n",
    "\n",
    "auc_ft = roc_auc_score(y_test, forest_pred)\n",
    "fpr_ft, tpr_ft, thresholds_ft = roc_curve(y_test, forest_pred)"
   ]
  },
  {
   "cell_type": "code",
   "execution_count": 13,
   "id": "2536aadd-359a-4f4f-91a0-1714be63ec33",
   "metadata": {
    "jupyter": {
     "source_hidden": true
    },
    "tags": []
   },
   "outputs": [
    {
     "data": {
      "image/png": "[encoded data removed]",
      "text/plain": [
       "<Figure size 864x504 with 1 Axes>"
      ]
     },
     "metadata": {
      "needs_background": "light"
     },
     "output_type": "display_data"
    }
   ],
   "source": [
    "plt.figure(figsize=(12, 7))\n",
    "plt.plot(fpr_lr, tpr_lr, label=f'AUC (Logistic Regression) = {auc_lr:.2f}') # using direct prediction values\n",
    "plt.plot(fpr_lor, tpr_lor, label=f'AUC (Logistic Regression) = {auc_lor:.2f}') #using probability prediction.\n",
    "plt.plot(fpr_sg, tpr_sg, label=f'AUC (SVG) = {auc_sg:.2f}')\n",
    "plt.plot(fpr_dt, tpr_dt, label=f'AUC (Decision Tree) = {auc_dt:.2f}')\n",
    "plt.plot(fpr_ft, tpr_ft, label=f'AUC (Random Forests) = {auc_ft:.2f}')\n",
    "plt.plot([0, 1], [0, 1], color='blue', linestyle='--', label='Baseline')\n",
    "plt.title('ROC Curve', size=20)\n",
    "plt.xlabel('False Positive Rate', size=14)\n",
    "plt.ylabel('True Positive Rate', size=14)\n",
    "plt.legend();"
   ]
  },
  {
   "cell_type": "code",
   "execution_count": 119,
   "id": "c06ebab9-17aa-43ec-bf65-3d88ef6b2bc5",
   "metadata": {
    "collapsed": true,
    "jupyter": {
     "outputs_hidden": true,
     "source_hidden": true
    },
    "tags": []
   },
   "outputs": [
    {
     "data": {
      "image/png": "[encoded data removed]",
      "text/plain": [
       "<Figure size 432x288 with 1 Axes>"
      ]
     },
     "metadata": {
      "needs_background": "light"
     },
     "output_type": "display_data"
    }
   ],
   "source": [
    "auc_lor = auc(fpr_lor,tpr_lor)\n",
    "plot = RocCurveDisplay(fpr=fpr_lor,tpr=tpr_lor,roc_auc=auc_lor)\n",
    "plot.plot();"
   ]
  },
  {
   "cell_type": "code",
   "execution_count": null,
   "id": "1e3d9e93-d84b-4ac9-bc15-49c1d0fb67e5",
   "metadata": {},
   "outputs": [],
   "source": []
  }
 ],
 "metadata": {
  "kernelspec": {
   "display_name": "Python 3",
   "language": "python",
   "name": "python3"
  },
  "language_info": {
   "codemirror_mode": {
    "name": "ipython",
    "version": 3
   },
   "file_extension": ".py",
   "mimetype": "text/x-python",
   "name": "python",
   "nbconvert_exporter": "python",
   "pygments_lexer": "ipython3",
   "version": "3.8.8"
  }
 },
 "nbformat": 4,
 "nbformat_minor": 5
}

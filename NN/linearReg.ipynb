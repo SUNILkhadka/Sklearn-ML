{
 "cells": [
  {
   "cell_type": "code",
   "execution_count": 4,
   "id": "7bfd3f8d-dfec-485f-b98a-9a5debbf6ea5",
   "metadata": {},
   "outputs": [],
   "source": [
    "import torch\n",
    "import numpy as np"
   ]
  },
  {
   "cell_type": "code",
   "execution_count": 5,
   "id": "95af1481-c340-483c-a497-a2a4ce351f62",
   "metadata": {},
   "outputs": [],
   "source": [
    "# Input (temp, rainfall, humidity)\n",
    "inputs = np.array([[73, 67, 43], \n",
    "                   [91, 88, 64], \n",
    "                   [87, 134, 58], \n",
    "                   [102, 43, 37], \n",
    "                   [69, 96, 70]], dtype='float32')"
   ]
  },
  {
   "cell_type": "code",
   "execution_count": 6,
   "id": "ae7e6ea2-606d-47c4-bd71-1a4aca98c84a",
   "metadata": {},
   "outputs": [],
   "source": [
    "# Targets (apples, oranges)\n",
    "targets = np.array([[56, 70], \n",
    "                    [81, 101], \n",
    "                    [119, 133], \n",
    "                    [22, 37], \n",
    "                    [103, 119]], dtype='float32')"
   ]
  },
  {
   "cell_type": "code",
   "execution_count": 7,
   "id": "c4aaa4f3-614f-4d81-a1ff-b9ee60a19b65",
   "metadata": {},
   "outputs": [],
   "source": [
    "inputs = torch.from_numpy(inputs)\n",
    "targets = torch.from_numpy(targets)"
   ]
  },
  {
   "cell_type": "code",
   "execution_count": 8,
   "id": "a71043cd-ad2f-435d-81f5-6e9134329e95",
   "metadata": {},
   "outputs": [
    {
     "name": "stdout",
     "output_type": "stream",
     "text": [
      "tensor([[ 73.,  67.,  43.],\n",
      "        [ 91.,  88.,  64.],\n",
      "        [ 87., 134.,  58.],\n",
      "        [102.,  43.,  37.],\n",
      "        [ 69.,  96.,  70.]])\n",
      "tensor([[ 56.,  70.],\n",
      "        [ 81., 101.],\n",
      "        [119., 133.],\n",
      "        [ 22.,  37.],\n",
      "        [103., 119.]])\n"
     ]
    }
   ],
   "source": [
    "print(inputs)\n",
    "print(targets)"
   ]
  },
  {
   "cell_type": "code",
   "execution_count": 9,
   "id": "3ee069a6-502d-44e0-8f37-bc949a97b902",
   "metadata": {},
   "outputs": [
    {
     "name": "stdout",
     "output_type": "stream",
     "text": [
      "tensor([[ 0.0988, -0.6416, -1.6558],\n",
      "        [ 1.7088, -0.5485, -1.3034]], requires_grad=True)\n",
      "tensor([ 0.3491, -0.1942], requires_grad=True)\n"
     ]
    }
   ],
   "source": [
    "w = torch.randn(2,3,requires_grad=True )\n",
    "b = torch.randn(2, requires_grad=True)\n",
    "print(w)\n",
    "print(b)"
   ]
  },
  {
   "cell_type": "code",
   "execution_count": 10,
   "id": "366a22f0-a0c6-4077-8eea-eca6428cf43c",
   "metadata": {},
   "outputs": [],
   "source": [
    "def model(x):\n",
    "    return x @ w.t() + b"
   ]
  },
  {
   "cell_type": "code",
   "execution_count": 11,
   "id": "ee607c70-41cb-4287-83fd-f4b6f2fc0904",
   "metadata": {},
   "outputs": [
    {
     "data": {
      "text/plain": [
       "tensor([[-106.6259,   31.7519],\n",
       "        [-153.0935,   23.6204],\n",
       "        [-173.0686,   -0.6233],\n",
       "        [ -78.4258,  102.2895],\n",
       "        [-170.3358,  -26.1805]], grad_fn=<AddBackward0>)"
      ]
     },
     "execution_count": 11,
     "metadata": {},
     "output_type": "execute_result"
    }
   ],
   "source": [
    "model(inputs)"
   ]
  },
  {
   "cell_type": "code",
   "execution_count": 12,
   "id": "8ca92892-5a23-465e-a17b-b7e5a9b4702a",
   "metadata": {},
   "outputs": [],
   "source": [
    "predct = model(inputs)"
   ]
  },
  {
   "cell_type": "code",
   "execution_count": 13,
   "id": "6d55f516-3d24-4f6d-8278-2aaf9a4fc420",
   "metadata": {},
   "outputs": [
    {
     "name": "stdout",
     "output_type": "stream",
     "text": [
      "tensor([[ 56.,  70.],\n",
      "        [ 81., 101.],\n",
      "        [119., 133.],\n",
      "        [ 22.,  37.],\n",
      "        [103., 119.]])\n"
     ]
    }
   ],
   "source": [
    "print(targets)"
   ]
  },
  {
   "cell_type": "code",
   "execution_count": 14,
   "id": "7c6e0672-9897-48ca-a2dd-1f78c5d4218d",
   "metadata": {},
   "outputs": [
    {
     "data": {
      "text/plain": [
       "tensor(30199.4570, grad_fn=<DivBackward0>)"
      ]
     },
     "execution_count": 14,
     "metadata": {},
     "output_type": "execute_result"
    }
   ],
   "source": [
    "diff = predct - targets\n",
    "torch.sum(diff * diff) / diff.numel()"
   ]
  },
  {
   "cell_type": "code",
   "execution_count": 15,
   "id": "60ec0e81-0760-457f-a2b0-2ce912bfd8d3",
   "metadata": {},
   "outputs": [],
   "source": [
    "def mse(p,t):\n",
    "    diff = p - t \n",
    "    return torch.sum(diff * diff)/ diff.numel()"
   ]
  },
  {
   "cell_type": "code",
   "execution_count": 16,
   "id": "645123fb-444f-4030-92a7-8102aa8f404b",
   "metadata": {},
   "outputs": [],
   "source": [
    "loss = mse(predct,targets)"
   ]
  },
  {
   "cell_type": "code",
   "execution_count": 17,
   "id": "532da017-b9b6-409f-8cc2-321c80dda250",
   "metadata": {},
   "outputs": [],
   "source": [
    "loss.backward()"
   ]
  },
  {
   "cell_type": "code",
   "execution_count": 18,
   "id": "0248ea3c-2e5f-4f77-b215-bd59052d68b6",
   "metadata": {},
   "outputs": [
    {
     "name": "stdout",
     "output_type": "stream",
     "text": [
      "tensor([[ 0.0988, -0.6416, -1.6558],\n",
      "        [ 1.7088, -0.5485, -1.3034]], requires_grad=True)\n",
      "tensor([[-17537.5527, -20238.3789, -12352.8262],\n",
      "        [ -4963.3623,  -7681.4873,  -4418.8081]])\n"
     ]
    }
   ],
   "source": [
    "print(w)\n",
    "print(w.grad)"
   ]
  },
  {
   "cell_type": "code",
   "execution_count": 19,
   "id": "340daa4e-3f05-41a0-a104-f5d532dab0f1",
   "metadata": {},
   "outputs": [
    {
     "name": "stdout",
     "output_type": "stream",
     "text": [
      "tensor([ 0.3491, -0.1942], requires_grad=True)\n",
      "tensor([-212.5099,  -65.8284])\n"
     ]
    }
   ],
   "source": [
    "print(b)\n",
    "print(b.grad)"
   ]
  },
  {
   "cell_type": "code",
   "execution_count": 21,
   "id": "52e81dbc-6b4d-402f-be59-c6da54bbe997",
   "metadata": {},
   "outputs": [],
   "source": [
    "with torch.no_grad():\n",
    "    w -= w.grad * 1e-5\n",
    "    b -= b.grad * 1e-5"
   ]
  },
  {
   "cell_type": "code",
   "execution_count": 22,
   "id": "f42628fd-0332-47ad-8502-b350731c0693",
   "metadata": {},
   "outputs": [
    {
     "data": {
      "text/plain": [
       "tensor([0., 0.])"
      ]
     },
     "execution_count": 22,
     "metadata": {},
     "output_type": "execute_result"
    }
   ],
   "source": [
    "w.grad.zero_()\n",
    "b.grad.zero_()"
   ]
  },
  {
   "cell_type": "code",
   "execution_count": 23,
   "id": "90a67797-46a6-4574-a2d6-f57bba5f4b71",
   "metadata": {},
   "outputs": [],
   "source": [
    "def model(x):\n",
    "    return x @ w.t() + b\n",
    "def mse(p,t):\n",
    "    diff = p - t \n",
    "    return torch.sum(diff * diff)/ diff.numel()\n",
    "def train(w,b,wg,bg,loss):\n",
    "    loss.backward()\n",
    "    with torch.no_grad():\n",
    "        w -= wg * 1e-5\n",
    "        b -= bg * 1e-5\n",
    "    wg.zero_()\n",
    "    bg.zero_()"
   ]
  },
  {
   "cell_type": "code",
   "execution_count": 25,
   "id": "7a6bdae4-fe20-48c4-99d5-f022fd573175",
   "metadata": {},
   "outputs": [],
   "source": [
    "predict = model(inputs)"
   ]
  },
  {
   "cell_type": "code",
   "execution_count": 27,
   "id": "d9524a22-1719-4627-8b7f-9c3ea09e2936",
   "metadata": {},
   "outputs": [
    {
     "name": "stdout",
     "output_type": "stream",
     "text": [
      "tensor(21337.9297, grad_fn=<DivBackward0>)\n"
     ]
    }
   ],
   "source": [
    "loss = mse(predict,targets)\n",
    "print(loss)"
   ]
  },
  {
   "cell_type": "code",
   "execution_count": 28,
   "id": "c4e42b0d-7e1f-47cd-943b-655db4fe9f28",
   "metadata": {},
   "outputs": [],
   "source": [
    "train(w,b,w.grad,b.grad,loss)"
   ]
  },
  {
   "cell_type": "code",
   "execution_count": 31,
   "id": "e707c167-4d1d-4b46-9e95-dede623e2534",
   "metadata": {},
   "outputs": [
    {
     "name": "stdout",
     "output_type": "stream",
     "text": [
      "tensor([[-48.9604,  51.1597],\n",
      "        [-77.2122,  49.2895],\n",
      "        [-82.8135,  30.7202],\n",
      "        [-21.7581, 120.3710],\n",
      "        [-97.1428,  -0.8331]], grad_fn=<AddBackward0>)\n"
     ]
    }
   ],
   "source": [
    "# generate predictions \n",
    "predict = model(inputs)\n",
    "print(predict)"
   ]
  },
  {
   "cell_type": "code",
   "execution_count": 32,
   "id": "b0d121f1-46ec-4aed-8142-551759883432",
   "metadata": {},
   "outputs": [
    {
     "name": "stdout",
     "output_type": "stream",
     "text": [
      "tensor(15354.9141, grad_fn=<DivBackward0>)\n"
     ]
    }
   ],
   "source": [
    "# Calculate the loss\n",
    "loss = mse(predict,targets)\n",
    "print(loss)"
   ]
  },
  {
   "cell_type": "code",
   "execution_count": 33,
   "id": "b503f880-dff4-4ec4-ade4-a4e8d3b4b075",
   "metadata": {},
   "outputs": [
    {
     "name": "stdout",
     "output_type": "stream",
     "text": [
      "tensor([[-11578.0723, -13818.6650,  -8394.6201],\n",
      "        [ -2948.7959,  -5487.4688,  -3071.0850]])\n",
      "tensor([-141.7774,  -41.8585])\n"
     ]
    }
   ],
   "source": [
    "# Compute gradient \n",
    "loss.backward()\n",
    "print(w.grad)\n",
    "print(b.grad)"
   ]
  },
  {
   "cell_type": "code",
   "execution_count": 35,
   "id": "e57baa04-c1e1-43ff-957b-0caa26e6a690",
   "metadata": {},
   "outputs": [],
   "source": [
    "# Adjust the weights and biases & reset gradients\n",
    "with torch.no_grad():\n",
    "    w -= w.grad * 1e-5\n",
    "    b -= b.grad * 1e-5\n",
    "    w.grad.zero_()\n",
    "    b.grad.zero_()\n"
   ]
  },
  {
   "cell_type": "code",
   "execution_count": 36,
   "id": "17e7c8cd-eeab-4624-a586-63f403d0b2a4",
   "metadata": {},
   "outputs": [
    {
     "name": "stdout",
     "output_type": "stream",
     "text": [
      "tensor(15354.9141, grad_fn=<DivBackward0>)\n"
     ]
    }
   ],
   "source": [
    "print(loss)"
   ]
  },
  {
   "cell_type": "code",
   "execution_count": 45,
   "id": "7e7c6d8a-28ba-4646-a306-0c830086f606",
   "metadata": {},
   "outputs": [],
   "source": [
    "for i in range(10000):\n",
    "    predict = model(inputs)\n",
    "    loss = mse(predict,targets)\n",
    "    loss.backward()\n",
    "    with torch.no_grad():\n",
    "        w -= w.grad * 1e-5\n",
    "        b -= b.grad * 1e-5\n",
    "        w.grad.zero_()\n",
    "        b.grad.zero_()\n",
    "    "
   ]
  },
  {
   "cell_type": "code",
   "execution_count": 46,
   "id": "1ca168de-9366-4297-a63b-d72935376438",
   "metadata": {},
   "outputs": [
    {
     "name": "stdout",
     "output_type": "stream",
     "text": [
      "tensor(0.5157, grad_fn=<DivBackward0>)\n"
     ]
    }
   ],
   "source": [
    "print(loss)"
   ]
  },
  {
   "cell_type": "code",
   "execution_count": 47,
   "id": "c54273b8-c09e-4b5f-9a13-742ed873c6ee",
   "metadata": {},
   "outputs": [
    {
     "name": "stdout",
     "output_type": "stream",
     "text": [
      "tensor([[ 57.2226,  70.2732],\n",
      "        [ 82.1709, 100.6926],\n",
      "        [118.6838, 132.9644],\n",
      "        [ 21.0741,  37.0196],\n",
      "        [101.9297, 119.1322]], grad_fn=<AddBackward0>)\n"
     ]
    }
   ],
   "source": [
    "print(predict)"
   ]
  },
  {
   "cell_type": "code",
   "execution_count": 44,
   "id": "866ae974-5361-4159-afdf-53efb948fb51",
   "metadata": {},
   "outputs": [
    {
     "name": "stdout",
     "output_type": "stream",
     "text": [
      "tensor([[ 56.,  70.],\n",
      "        [ 81., 101.],\n",
      "        [119., 133.],\n",
      "        [ 22.,  37.],\n",
      "        [103., 119.]])\n"
     ]
    }
   ],
   "source": [
    "print(targets)"
   ]
  },
  {
   "cell_type": "code",
   "execution_count": 55,
   "id": "bf05c5c3-5137-4166-a325-ded3e914db2d",
   "metadata": {},
   "outputs": [],
   "source": [
    "# Input (temp, rainfall, humidity)\n",
    "inputs = np.array([[73, 67, 43], \n",
    "                   [91, 88, 64], \n",
    "                   [87, 134, 58], \n",
    "                   [102, 43, 37], \n",
    "                   [69, 96, 70], \n",
    "                   [74, 66, 43], \n",
    "                   [91, 87, 65], \n",
    "                   [88, 134, 59], \n",
    "                   [101, 44, 37], \n",
    "                   [68, 96, 71], \n",
    "                   [73, 66, 44], \n",
    "                   [92, 87, 64], \n",
    "                   [87, 135, 57], \n",
    "                   [103, 43, 36], \n",
    "                   [68, 97, 70]], \n",
    "                  dtype='float32')\n",
    "\n",
    "# Targets (apples, oranges)\n",
    "targets = np.array([[56, 70], \n",
    "                    [81, 101], \n",
    "                    [119, 133], \n",
    "                    [22, 37], \n",
    "                    [103, 119],\n",
    "                    [57, 69], \n",
    "                    [80, 102], \n",
    "                    [118, 132], \n",
    "                    [21, 38], \n",
    "                    [104, 118], \n",
    "                    [57, 69], \n",
    "                    [82, 100], \n",
    "                    [118, 134], \n",
    "                    [20, 38], \n",
    "                    [102, 120]], \n",
    "                   dtype='float32')\n",
    "\n",
    "inputs = torch.from_numpy(inputs)\n",
    "targets = torch.from_numpy(targets)"
   ]
  },
  {
   "cell_type": "code",
   "execution_count": 56,
   "id": "00a74025-cb9d-4d78-8f91-98acf78ac68a",
   "metadata": {},
   "outputs": [],
   "source": [
    "from torch.utils.data import TensorDataset"
   ]
  },
  {
   "cell_type": "code",
   "execution_count": 89,
   "id": "ca9030ae-7450-4d1c-9d98-31d6faac5b68",
   "metadata": {},
   "outputs": [],
   "source": [
    "trainda = TensorDataset(inputs,targets)"
   ]
  },
  {
   "cell_type": "code",
   "execution_count": 90,
   "id": "2bb12322-a359-40b9-a57a-0711a8b1ecfb",
   "metadata": {},
   "outputs": [
    {
     "data": {
      "text/plain": [
       "(tensor([[ 73.,  67.,  43.],\n",
       "         [ 91.,  88.,  64.],\n",
       "         [ 87., 134.,  58.]]),\n",
       " tensor([[ 56.,  70.],\n",
       "         [ 81., 101.],\n",
       "         [119., 133.]]))"
      ]
     },
     "execution_count": 90,
     "metadata": {},
     "output_type": "execute_result"
    }
   ],
   "source": [
    "trainda[0:3]"
   ]
  },
  {
   "cell_type": "code",
   "execution_count": 91,
   "id": "3bcc093d-7141-46e3-9ab5-f001f2647659",
   "metadata": {},
   "outputs": [],
   "source": [
    "from torch.utils.data import DataLoader"
   ]
  },
  {
   "cell_type": "code",
   "execution_count": 92,
   "id": "c809c01c-caf9-40c3-9a25-714051c787cb",
   "metadata": {},
   "outputs": [],
   "source": [
    "batch_size = 5\n",
    "train_dl = DataLoader(trainda,batch_size,shuffle=True)"
   ]
  },
  {
   "cell_type": "code",
   "execution_count": 94,
   "id": "fc2c882a-dcc3-4b88-a3e0-f5a3f94ff5d1",
   "metadata": {},
   "outputs": [
    {
     "name": "stdout",
     "output_type": "stream",
     "text": [
      "tensor([[ 73.,  67.,  43.],\n",
      "        [101.,  44.,  37.],\n",
      "        [102.,  43.,  37.],\n",
      "        [ 68.,  97.,  70.],\n",
      "        [ 69.,  96.,  70.]])\n",
      "tensor([[ 56.,  70.],\n",
      "        [ 21.,  38.],\n",
      "        [ 22.,  37.],\n",
      "        [102., 120.],\n",
      "        [103., 119.]])\n"
     ]
    }
   ],
   "source": [
    "for x,y in train_dl:\n",
    "    print(x)\n",
    "    print(y)\n",
    "    break"
   ]
  },
  {
   "cell_type": "markdown",
   "id": "7fbc0684-e6c6-48d6-8e17-78966b18f325",
   "metadata": {},
   "source": [
    "# using torch.nn module"
   ]
  },
  {
   "cell_type": "code",
   "execution_count": 96,
   "id": "0197d9a3-5618-4a09-95a1-0023e9d28d11",
   "metadata": {},
   "outputs": [],
   "source": [
    "import torch.nn as nn"
   ]
  },
  {
   "cell_type": "markdown",
   "id": "a12a4143-7ffc-4146-afea-b0b596459b42",
   "metadata": {},
   "source": [
    "# nn.Linear"
   ]
  },
  {
   "cell_type": "code",
   "execution_count": 105,
   "id": "ded35a2a-484b-4252-9547-7ff33a590ce9",
   "metadata": {},
   "outputs": [
    {
     "name": "stdout",
     "output_type": "stream",
     "text": [
      "Parameter containing:\n",
      "tensor([[-0.2448, -0.4881, -0.0968],\n",
      "        [ 0.2112,  0.2111,  0.0045]], requires_grad=True)\n",
      "Parameter containing:\n",
      "tensor([ 0.4467, -0.4862], requires_grad=True)\n"
     ]
    }
   ],
   "source": [
    "# initalizing weight and biases using nn.Linear\n",
    "# define module\n",
    "model = nn.Linear(3,2)\n",
    "print(model.weight)\n",
    "print(model.bias)"
   ]
  },
  {
   "cell_type": "code",
   "execution_count": 107,
   "id": "6860e874-551f-4be9-a394-5b055e837e8b",
   "metadata": {},
   "outputs": [
    {
     "data": {
      "text/plain": [
       "[Parameter containing:\n",
       " tensor([[-0.2448, -0.4881, -0.0968],\n",
       "         [ 0.2112,  0.2111,  0.0045]], requires_grad=True),\n",
       " Parameter containing:\n",
       " tensor([ 0.4467, -0.4862], requires_grad=True)]"
      ]
     },
     "execution_count": 107,
     "metadata": {},
     "output_type": "execute_result"
    }
   ],
   "source": [
    "#parameters\n",
    "list(model.parameters())"
   ]
  },
  {
   "cell_type": "code",
   "execution_count": 108,
   "id": "eaf48d84-dd14-4be5-8846-a6bee1c331e4",
   "metadata": {},
   "outputs": [
    {
     "name": "stdout",
     "output_type": "stream",
     "text": [
      "tensor([[-54.2957,  29.2718],\n",
      "        [-70.9873,  37.6015],\n",
      "        [-91.8817,  46.4426],\n",
      "        [-49.0994,  30.3030],\n",
      "        [-70.0871,  34.6705],\n",
      "        [-54.0524,  29.2718],\n",
      "        [-70.5960,  37.3949],\n",
      "        [-92.2234,  46.6583],\n",
      "        [-49.3427,  30.3029],\n",
      "        [-69.9391,  34.4638],\n",
      "        [-53.9044,  29.0651],\n",
      "        [-70.7440,  37.6016],\n",
      "        [-92.2730,  46.6493],\n",
      "        [-49.2474,  30.5098],\n",
      "        [-70.3304,  34.6705]], grad_fn=<AddmmBackward>)\n"
     ]
    }
   ],
   "source": [
    "# Generating prediction outputs\n",
    "predict = model(inputs)\n",
    "print(predict)"
   ]
  },
  {
   "cell_type": "markdown",
   "id": "d54545c2-e406-4666-a4e9-92a0f9839ed0",
   "metadata": {},
   "source": [
    "# Loss Function"
   ]
  },
  {
   "cell_type": "code",
   "execution_count": 112,
   "id": "4983f28f-338d-4f98-8fe8-da44f9ca1717",
   "metadata": {},
   "outputs": [],
   "source": [
    "# Importing nn functional package\n",
    "import torch.nn.functional as F"
   ]
  },
  {
   "cell_type": "code",
   "execution_count": 114,
   "id": "aea8532b-d1fa-439d-90d6-a2d85b1c1037",
   "metadata": {},
   "outputs": [],
   "source": [
    "# Clculating loss\n",
    "loss_fn = F.mse_loss"
   ]
  },
  {
   "cell_type": "code",
   "execution_count": 119,
   "id": "ac1ba5a7-278f-4401-a0b3-d1caf6b73e91",
   "metadata": {},
   "outputs": [
    {
     "name": "stdout",
     "output_type": "stream",
     "text": [
      "13478.42578125\n"
     ]
    }
   ],
   "source": [
    "loss = loss_fn(model(inputs),targets)\n",
    "print(loss.item())"
   ]
  },
  {
   "cell_type": "markdown",
   "id": "467bb4e5-a3ef-4bb3-bc53-fdb1f5c6afd9",
   "metadata": {},
   "source": [
    "# Optimiser"
   ]
  },
  {
   "cell_type": "code",
   "execution_count": 116,
   "id": "f7e82022-4481-4660-80d9-5ca706946ac5",
   "metadata": {},
   "outputs": [],
   "source": [
    "opt = torch.optim.SGD(model.parameters(),lr=1e-5)"
   ]
  },
  {
   "cell_type": "markdown",
   "id": "738cc49e-0bb5-4ed7-a63f-5bd2a92b6ec8",
   "metadata": {},
   "source": [
    "# A FUNCTION TO DO EVERYTHING"
   ]
  },
  {
   "cell_type": "code",
   "execution_count": 124,
   "id": "d8e178ac-3665-4132-bf3c-718f07a37bed",
   "metadata": {},
   "outputs": [],
   "source": [
    "import torch.nn as nn\n",
    "from torch.utils.data import dataloader,TensorDataset\n",
    "import torch.nn.functional as F\n"
   ]
  },
  {
   "cell_type": "code",
   "execution_count": 125,
   "id": "51566a65-b31f-4043-b274-2102a6c65323",
   "metadata": {},
   "outputs": [],
   "source": [
    "# Input (temp, rainfall, humidity)\n",
    "inputs = np.array([[73, 67, 43], \n",
    "                   [91, 88, 64], \n",
    "                   [87, 134, 58], \n",
    "                   [102, 43, 37], \n",
    "                   [69, 96, 70], \n",
    "                   [74, 66, 43], \n",
    "                   [91, 87, 65], \n",
    "                   [88, 134, 59], \n",
    "                   [101, 44, 37], \n",
    "                   [68, 96, 71], \n",
    "                   [73, 66, 44], \n",
    "                   [92, 87, 64], \n",
    "                   [87, 135, 57], \n",
    "                   [103, 43, 36], \n",
    "                   [68, 97, 70]], \n",
    "                  dtype='float32')\n",
    "\n",
    "# Targets (apples, oranges)\n",
    "targets = np.array([[56, 70], \n",
    "                    [81, 101], \n",
    "                    [119, 133], \n",
    "                    [22, 37], \n",
    "                    [103, 119],\n",
    "                    [57, 69], \n",
    "                    [80, 102], \n",
    "                    [118, 132], \n",
    "                    [21, 38], \n",
    "                    [104, 118], \n",
    "                    [57, 69], \n",
    "                    [82, 100], \n",
    "                    [118, 134], \n",
    "                    [20, 38], \n",
    "                    [102, 120]], \n",
    "                   dtype='float32')\n",
    "\n",
    "inputs = torch.from_numpy(inputs)\n",
    "targets = torch.from_numpy(targets)"
   ]
  },
  {
   "cell_type": "markdown",
   "id": "eb841732-3e75-4380-af76-7574bf4b96ed",
   "metadata": {},
   "source": [
    "Creating data set"
   ]
  },
  {
   "cell_type": "code",
   "execution_count": 126,
   "id": "d468c1cb-5861-40d2-875c-8ab242894227",
   "metadata": {},
   "outputs": [],
   "source": [
    "traindata = TensorDataset(inputs,targets)\n",
    "batch_size = 5\n",
    "train_dl = DataLoader(traindata,batch_size,shuffle=True)"
   ]
  },
  {
   "cell_type": "code",
   "execution_count": 127,
   "id": "f9d0d08f-890f-48b4-a800-9b670c5194e9",
   "metadata": {},
   "outputs": [],
   "source": [
    "# define module\n",
    "model = nn.Linear(3,2)\n",
    "\n",
    "# defining loss function\n",
    "loss_fn = F.mse_loss\n",
    "\n",
    "# Optimising\n",
    "opt = torch.optim.SGD(model.parameters(),lr=1e-5)"
   ]
  },
  {
   "cell_type": "code",
   "execution_count": 142,
   "id": "0adb02a5-4697-451c-81ab-2d1b3d58950d",
   "metadata": {},
   "outputs": [],
   "source": [
    "def my_model(train_dl,model,loss_fn,train_epoch,opt):\n",
    "    # initalizing weight and biases using nn.Linear\n",
    "     for epoc in range(train_epoch):\n",
    "        for xd,yd in train_dl:\n",
    "            # calculating prediction of model\n",
    "            pdct = model(xd)\n",
    "            # calculating loss\n",
    "            loss = loss_fn(pdct,yd)\n",
    "            # calculating gradient\n",
    "            loss.backward()\n",
    "            # Optimising and updating weights and biases\n",
    "            opt.step()\n",
    "            # resetting gradient to zero\n",
    "            opt.zero_grad()\n",
    "        if (epoc+1) % 10 == 0:\n",
    "            print(\"Epoch = {}/{}  loss = {:.4f}\".format(epoc+1,train_epoch,loss.item()))\n",
    "        \n",
    "        "
   ]
  },
  {
   "cell_type": "code",
   "execution_count": 144,
   "id": "50add42c-9cf4-4852-a815-fe17a7a7d8b3",
   "metadata": {},
   "outputs": [
    {
     "name": "stdout",
     "output_type": "stream",
     "text": [
      "Epoch = 10/10000  loss = 28.1756\n",
      "Epoch = 20/10000  loss = 30.4011\n",
      "Epoch = 30/10000  loss = 22.8666\n",
      "Epoch = 40/10000  loss = 18.8961\n",
      "Epoch = 50/10000  loss = 21.9105\n",
      "Epoch = 60/10000  loss = 18.4997\n",
      "Epoch = 70/10000  loss = 17.3919\n",
      "Epoch = 80/10000  loss = 13.5241\n",
      "Epoch = 90/10000  loss = 7.0271\n",
      "Epoch = 100/10000  loss = 13.9263\n",
      "Epoch = 110/10000  loss = 16.0681\n",
      "Epoch = 120/10000  loss = 4.8159\n",
      "Epoch = 130/10000  loss = 14.0991\n",
      "Epoch = 140/10000  loss = 4.7017\n",
      "Epoch = 150/10000  loss = 12.8110\n",
      "Epoch = 160/10000  loss = 10.2689\n",
      "Epoch = 170/10000  loss = 8.3996\n",
      "Epoch = 180/10000  loss = 9.0434\n",
      "Epoch = 190/10000  loss = 8.4664\n",
      "Epoch = 200/10000  loss = 10.2653\n",
      "Epoch = 210/10000  loss = 8.0491\n",
      "Epoch = 220/10000  loss = 7.9849\n",
      "Epoch = 230/10000  loss = 8.6004\n",
      "Epoch = 240/10000  loss = 3.9654\n",
      "Epoch = 250/10000  loss = 3.7128\n",
      "Epoch = 260/10000  loss = 3.8299\n",
      "Epoch = 270/10000  loss = 6.8575\n",
      "Epoch = 280/10000  loss = 4.4921\n",
      "Epoch = 290/10000  loss = 5.4295\n",
      "Epoch = 300/10000  loss = 4.5479\n",
      "Epoch = 310/10000  loss = 2.5783\n",
      "Epoch = 320/10000  loss = 4.4489\n",
      "Epoch = 330/10000  loss = 3.8380\n",
      "Epoch = 340/10000  loss = 4.6536\n",
      "Epoch = 350/10000  loss = 3.6511\n",
      "Epoch = 360/10000  loss = 3.1515\n",
      "Epoch = 370/10000  loss = 2.9784\n",
      "Epoch = 380/10000  loss = 1.3208\n",
      "Epoch = 390/10000  loss = 1.5855\n",
      "Epoch = 400/10000  loss = 4.0166\n",
      "Epoch = 410/10000  loss = 4.0447\n",
      "Epoch = 420/10000  loss = 1.9472\n",
      "Epoch = 430/10000  loss = 3.1766\n",
      "Epoch = 440/10000  loss = 2.0246\n",
      "Epoch = 450/10000  loss = 2.1050\n",
      "Epoch = 460/10000  loss = 2.4893\n",
      "Epoch = 470/10000  loss = 3.1911\n",
      "Epoch = 480/10000  loss = 1.9596\n",
      "Epoch = 490/10000  loss = 1.4382\n",
      "Epoch = 500/10000  loss = 2.9638\n",
      "Epoch = 510/10000  loss = 1.0922\n",
      "Epoch = 520/10000  loss = 2.5454\n",
      "Epoch = 530/10000  loss = 1.1946\n",
      "Epoch = 540/10000  loss = 2.7419\n",
      "Epoch = 550/10000  loss = 1.1343\n",
      "Epoch = 560/10000  loss = 1.7834\n",
      "Epoch = 570/10000  loss = 2.1553\n",
      "Epoch = 580/10000  loss = 2.3882\n",
      "Epoch = 590/10000  loss = 2.1766\n",
      "Epoch = 600/10000  loss = 1.4557\n",
      "Epoch = 610/10000  loss = 1.5595\n",
      "Epoch = 620/10000  loss = 2.0918\n",
      "Epoch = 630/10000  loss = 1.2230\n",
      "Epoch = 640/10000  loss = 1.3049\n",
      "Epoch = 650/10000  loss = 0.7411\n",
      "Epoch = 660/10000  loss = 1.2805\n",
      "Epoch = 670/10000  loss = 1.4860\n",
      "Epoch = 680/10000  loss = 0.9585\n",
      "Epoch = 690/10000  loss = 0.6599\n",
      "Epoch = 700/10000  loss = 0.9393\n",
      "Epoch = 710/10000  loss = 0.8973\n",
      "Epoch = 720/10000  loss = 1.4800\n",
      "Epoch = 730/10000  loss = 1.2304\n",
      "Epoch = 740/10000  loss = 1.5489\n",
      "Epoch = 750/10000  loss = 1.5010\n",
      "Epoch = 760/10000  loss = 0.8830\n",
      "Epoch = 770/10000  loss = 1.2551\n",
      "Epoch = 780/10000  loss = 1.0745\n",
      "Epoch = 790/10000  loss = 0.9914\n",
      "Epoch = 800/10000  loss = 1.2777\n",
      "Epoch = 810/10000  loss = 1.2740\n",
      "Epoch = 820/10000  loss = 1.6172\n",
      "Epoch = 830/10000  loss = 1.1826\n",
      "Epoch = 840/10000  loss = 1.2619\n",
      "Epoch = 850/10000  loss = 0.6865\n",
      "Epoch = 860/10000  loss = 1.0296\n",
      "Epoch = 870/10000  loss = 0.9104\n",
      "Epoch = 880/10000  loss = 0.8660\n",
      "Epoch = 890/10000  loss = 0.7953\n",
      "Epoch = 900/10000  loss = 1.1799\n",
      "Epoch = 910/10000  loss = 1.2789\n",
      "Epoch = 920/10000  loss = 0.9658\n",
      "Epoch = 930/10000  loss = 1.5589\n",
      "Epoch = 940/10000  loss = 1.4153\n",
      "Epoch = 950/10000  loss = 1.4876\n",
      "Epoch = 960/10000  loss = 1.2839\n",
      "Epoch = 970/10000  loss = 1.2957\n",
      "Epoch = 980/10000  loss = 1.3429\n",
      "Epoch = 990/10000  loss = 0.8212\n",
      "Epoch = 1000/10000  loss = 1.0333\n",
      "Epoch = 1010/10000  loss = 1.3217\n",
      "Epoch = 1020/10000  loss = 1.1217\n",
      "Epoch = 1030/10000  loss = 1.4966\n",
      "Epoch = 1040/10000  loss = 0.9243\n",
      "Epoch = 1050/10000  loss = 0.9033\n",
      "Epoch = 1060/10000  loss = 0.9918\n",
      "Epoch = 1070/10000  loss = 0.7110\n",
      "Epoch = 1080/10000  loss = 1.5072\n",
      "Epoch = 1090/10000  loss = 0.8628\n",
      "Epoch = 1100/10000  loss = 0.6747\n",
      "Epoch = 1110/10000  loss = 0.8642\n",
      "Epoch = 1120/10000  loss = 0.8477\n",
      "Epoch = 1130/10000  loss = 1.0798\n",
      "Epoch = 1140/10000  loss = 0.9644\n",
      "Epoch = 1150/10000  loss = 1.5112\n",
      "Epoch = 1160/10000  loss = 1.0059\n",
      "Epoch = 1170/10000  loss = 0.8143\n",
      "Epoch = 1180/10000  loss = 1.3001\n",
      "Epoch = 1190/10000  loss = 1.0170\n",
      "Epoch = 1200/10000  loss = 1.4117\n",
      "Epoch = 1210/10000  loss = 0.9130\n",
      "Epoch = 1220/10000  loss = 0.8504\n",
      "Epoch = 1230/10000  loss = 1.4126\n",
      "Epoch = 1240/10000  loss = 1.1186\n",
      "Epoch = 1250/10000  loss = 1.0465\n",
      "Epoch = 1260/10000  loss = 1.5060\n",
      "Epoch = 1270/10000  loss = 0.9237\n",
      "Epoch = 1280/10000  loss = 1.3155\n",
      "Epoch = 1290/10000  loss = 0.7540\n",
      "Epoch = 1300/10000  loss = 1.0800\n",
      "Epoch = 1310/10000  loss = 0.8097\n",
      "Epoch = 1320/10000  loss = 0.7631\n",
      "Epoch = 1330/10000  loss = 1.2568\n",
      "Epoch = 1340/10000  loss = 1.0725\n",
      "Epoch = 1350/10000  loss = 0.9874\n",
      "Epoch = 1360/10000  loss = 1.3244\n",
      "Epoch = 1370/10000  loss = 0.7996\n",
      "Epoch = 1380/10000  loss = 0.8238\n",
      "Epoch = 1390/10000  loss = 1.2387\n",
      "Epoch = 1400/10000  loss = 0.8949\n",
      "Epoch = 1410/10000  loss = 1.3988\n",
      "Epoch = 1420/10000  loss = 0.8830\n",
      "Epoch = 1430/10000  loss = 0.9040\n",
      "Epoch = 1440/10000  loss = 1.0135\n",
      "Epoch = 1450/10000  loss = 1.3256\n",
      "Epoch = 1460/10000  loss = 0.9256\n",
      "Epoch = 1470/10000  loss = 1.2005\n",
      "Epoch = 1480/10000  loss = 1.2171\n",
      "Epoch = 1490/10000  loss = 1.1690\n",
      "Epoch = 1500/10000  loss = 0.8086\n",
      "Epoch = 1510/10000  loss = 1.1605\n",
      "Epoch = 1520/10000  loss = 1.1056\n",
      "Epoch = 1530/10000  loss = 0.9276\n",
      "Epoch = 1540/10000  loss = 0.6696\n",
      "Epoch = 1550/10000  loss = 1.5127\n",
      "Epoch = 1560/10000  loss = 1.2389\n",
      "Epoch = 1570/10000  loss = 0.6692\n",
      "Epoch = 1580/10000  loss = 0.9789\n",
      "Epoch = 1590/10000  loss = 1.2980\n",
      "Epoch = 1600/10000  loss = 0.9086\n",
      "Epoch = 1610/10000  loss = 1.3683\n",
      "Epoch = 1620/10000  loss = 0.9929\n",
      "Epoch = 1630/10000  loss = 0.8692\n",
      "Epoch = 1640/10000  loss = 1.4927\n",
      "Epoch = 1650/10000  loss = 0.9504\n",
      "Epoch = 1660/10000  loss = 0.9704\n",
      "Epoch = 1670/10000  loss = 0.9931\n",
      "Epoch = 1680/10000  loss = 1.1898\n",
      "Epoch = 1690/10000  loss = 0.8421\n",
      "Epoch = 1700/10000  loss = 0.9305\n",
      "Epoch = 1710/10000  loss = 1.2695\n",
      "Epoch = 1720/10000  loss = 1.1357\n",
      "Epoch = 1730/10000  loss = 1.3085\n",
      "Epoch = 1740/10000  loss = 1.3092\n",
      "Epoch = 1750/10000  loss = 1.3669\n",
      "Epoch = 1760/10000  loss = 0.9605\n",
      "Epoch = 1770/10000  loss = 1.2759\n",
      "Epoch = 1780/10000  loss = 1.0829\n",
      "Epoch = 1790/10000  loss = 1.0702\n",
      "Epoch = 1800/10000  loss = 0.8970\n",
      "Epoch = 1810/10000  loss = 1.1877\n",
      "Epoch = 1820/10000  loss = 1.1219\n",
      "Epoch = 1830/10000  loss = 0.8213\n",
      "Epoch = 1840/10000  loss = 1.3176\n",
      "Epoch = 1850/10000  loss = 1.1689\n",
      "Epoch = 1860/10000  loss = 0.9169\n",
      "Epoch = 1870/10000  loss = 1.3466\n",
      "Epoch = 1880/10000  loss = 1.2782\n",
      "Epoch = 1890/10000  loss = 1.1980\n",
      "Epoch = 1900/10000  loss = 0.9420\n",
      "Epoch = 1910/10000  loss = 1.1365\n",
      "Epoch = 1920/10000  loss = 1.0497\n",
      "Epoch = 1930/10000  loss = 1.3408\n",
      "Epoch = 1940/10000  loss = 0.8134\n",
      "Epoch = 1950/10000  loss = 0.8684\n",
      "Epoch = 1960/10000  loss = 0.9261\n",
      "Epoch = 1970/10000  loss = 0.6821\n",
      "Epoch = 1980/10000  loss = 0.9397\n",
      "Epoch = 1990/10000  loss = 1.4402\n",
      "Epoch = 2000/10000  loss = 1.1518\n",
      "Epoch = 2010/10000  loss = 1.0334\n",
      "Epoch = 2020/10000  loss = 0.9756\n",
      "Epoch = 2030/10000  loss = 0.8542\n",
      "Epoch = 2040/10000  loss = 0.8102\n",
      "Epoch = 2050/10000  loss = 1.0686\n",
      "Epoch = 2060/10000  loss = 0.8486\n",
      "Epoch = 2070/10000  loss = 1.2403\n",
      "Epoch = 2080/10000  loss = 1.2804\n",
      "Epoch = 2090/10000  loss = 1.4611\n",
      "Epoch = 2100/10000  loss = 1.3129\n",
      "Epoch = 2110/10000  loss = 1.2164\n",
      "Epoch = 2120/10000  loss = 0.7187\n",
      "Epoch = 2130/10000  loss = 1.4227\n",
      "Epoch = 2140/10000  loss = 1.3070\n",
      "Epoch = 2150/10000  loss = 1.5163\n",
      "Epoch = 2160/10000  loss = 0.8854\n",
      "Epoch = 2170/10000  loss = 0.8837\n",
      "Epoch = 2180/10000  loss = 1.4205\n",
      "Epoch = 2190/10000  loss = 0.7397\n",
      "Epoch = 2200/10000  loss = 1.1865\n",
      "Epoch = 2210/10000  loss = 0.9735\n",
      "Epoch = 2220/10000  loss = 1.0384\n",
      "Epoch = 2230/10000  loss = 0.8320\n",
      "Epoch = 2240/10000  loss = 1.2244\n",
      "Epoch = 2250/10000  loss = 1.5130\n",
      "Epoch = 2260/10000  loss = 0.8904\n",
      "Epoch = 2270/10000  loss = 0.8545\n",
      "Epoch = 2280/10000  loss = 0.7867\n",
      "Epoch = 2290/10000  loss = 0.7794\n",
      "Epoch = 2300/10000  loss = 1.6793\n",
      "Epoch = 2310/10000  loss = 1.3863\n",
      "Epoch = 2320/10000  loss = 1.0814\n",
      "Epoch = 2330/10000  loss = 1.4544\n",
      "Epoch = 2340/10000  loss = 0.8959\n",
      "Epoch = 2350/10000  loss = 1.2999\n",
      "Epoch = 2360/10000  loss = 0.8531\n",
      "Epoch = 2370/10000  loss = 1.3382\n",
      "Epoch = 2380/10000  loss = 0.8834\n",
      "Epoch = 2390/10000  loss = 0.9933\n",
      "Epoch = 2400/10000  loss = 1.0969\n",
      "Epoch = 2410/10000  loss = 1.1266\n",
      "Epoch = 2420/10000  loss = 0.7937\n",
      "Epoch = 2430/10000  loss = 1.1691\n",
      "Epoch = 2440/10000  loss = 0.9160\n",
      "Epoch = 2450/10000  loss = 1.0549\n",
      "Epoch = 2460/10000  loss = 0.8072\n",
      "Epoch = 2470/10000  loss = 0.7941\n",
      "Epoch = 2480/10000  loss = 0.7808\n",
      "Epoch = 2490/10000  loss = 1.1784\n",
      "Epoch = 2500/10000  loss = 0.9643\n",
      "Epoch = 2510/10000  loss = 0.9284\n",
      "Epoch = 2520/10000  loss = 1.4163\n",
      "Epoch = 2530/10000  loss = 1.2016\n",
      "Epoch = 2540/10000  loss = 0.9394\n",
      "Epoch = 2550/10000  loss = 1.1632\n",
      "Epoch = 2560/10000  loss = 1.1387\n",
      "Epoch = 2570/10000  loss = 0.8898\n",
      "Epoch = 2580/10000  loss = 0.9095\n",
      "Epoch = 2590/10000  loss = 0.9220\n",
      "Epoch = 2600/10000  loss = 0.8423\n",
      "Epoch = 2610/10000  loss = 0.8526\n",
      "Epoch = 2620/10000  loss = 1.0984\n",
      "Epoch = 2630/10000  loss = 1.5211\n",
      "Epoch = 2640/10000  loss = 0.6098\n",
      "Epoch = 2650/10000  loss = 1.0416\n",
      "Epoch = 2660/10000  loss = 0.9535\n",
      "Epoch = 2670/10000  loss = 1.4569\n",
      "Epoch = 2680/10000  loss = 0.8658\n",
      "Epoch = 2690/10000  loss = 1.0417\n",
      "Epoch = 2700/10000  loss = 0.8520\n",
      "Epoch = 2710/10000  loss = 1.0428\n",
      "Epoch = 2720/10000  loss = 1.4257\n",
      "Epoch = 2730/10000  loss = 1.0665\n",
      "Epoch = 2740/10000  loss = 0.9256\n",
      "Epoch = 2750/10000  loss = 1.2615\n",
      "Epoch = 2760/10000  loss = 1.2415\n",
      "Epoch = 2770/10000  loss = 1.3060\n",
      "Epoch = 2780/10000  loss = 0.7967\n",
      "Epoch = 2790/10000  loss = 1.3894\n",
      "Epoch = 2800/10000  loss = 1.1807\n",
      "Epoch = 2810/10000  loss = 1.1012\n",
      "Epoch = 2820/10000  loss = 1.2479\n",
      "Epoch = 2830/10000  loss = 1.3572\n",
      "Epoch = 2840/10000  loss = 1.2201\n",
      "Epoch = 2850/10000  loss = 1.4094\n",
      "Epoch = 2860/10000  loss = 0.9001\n",
      "Epoch = 2870/10000  loss = 1.0322\n",
      "Epoch = 2880/10000  loss = 1.2316\n",
      "Epoch = 2890/10000  loss = 1.2030\n",
      "Epoch = 2900/10000  loss = 1.2777\n",
      "Epoch = 2910/10000  loss = 1.5160\n",
      "Epoch = 2920/10000  loss = 1.3450\n",
      "Epoch = 2930/10000  loss = 1.2955\n",
      "Epoch = 2940/10000  loss = 0.8495\n",
      "Epoch = 2950/10000  loss = 0.9773\n",
      "Epoch = 2960/10000  loss = 0.7729\n",
      "Epoch = 2970/10000  loss = 1.0382\n",
      "Epoch = 2980/10000  loss = 1.4250\n",
      "Epoch = 2990/10000  loss = 1.4862\n",
      "Epoch = 3000/10000  loss = 1.1260\n",
      "Epoch = 3010/10000  loss = 1.4357\n",
      "Epoch = 3020/10000  loss = 1.0764\n",
      "Epoch = 3030/10000  loss = 0.8402\n",
      "Epoch = 3040/10000  loss = 1.3426\n",
      "Epoch = 3050/10000  loss = 1.3289\n",
      "Epoch = 3060/10000  loss = 1.1416\n",
      "Epoch = 3070/10000  loss = 0.9957\n",
      "Epoch = 3080/10000  loss = 0.7188\n",
      "Epoch = 3090/10000  loss = 0.9480\n",
      "Epoch = 3100/10000  loss = 0.7104\n",
      "Epoch = 3110/10000  loss = 0.7975\n",
      "Epoch = 3120/10000  loss = 0.9589\n",
      "Epoch = 3130/10000  loss = 1.1933\n",
      "Epoch = 3140/10000  loss = 1.0361\n",
      "Epoch = 3150/10000  loss = 1.0100\n",
      "Epoch = 3160/10000  loss = 0.9558\n",
      "Epoch = 3170/10000  loss = 1.3352\n",
      "Epoch = 3180/10000  loss = 1.4811\n",
      "Epoch = 3190/10000  loss = 1.0636\n",
      "Epoch = 3200/10000  loss = 0.8061\n",
      "Epoch = 3210/10000  loss = 1.2225\n",
      "Epoch = 3220/10000  loss = 0.8859\n",
      "Epoch = 3230/10000  loss = 0.7357\n",
      "Epoch = 3240/10000  loss = 1.0651\n",
      "Epoch = 3250/10000  loss = 1.0684\n",
      "Epoch = 3260/10000  loss = 1.3660\n",
      "Epoch = 3270/10000  loss = 0.7779\n",
      "Epoch = 3280/10000  loss = 1.0070\n",
      "Epoch = 3290/10000  loss = 0.7861\n",
      "Epoch = 3300/10000  loss = 0.7717\n",
      "Epoch = 3310/10000  loss = 1.4038\n",
      "Epoch = 3320/10000  loss = 1.0396\n",
      "Epoch = 3330/10000  loss = 1.2093\n",
      "Epoch = 3340/10000  loss = 1.0301\n",
      "Epoch = 3350/10000  loss = 0.8734\n",
      "Epoch = 3360/10000  loss = 0.8451\n",
      "Epoch = 3370/10000  loss = 1.3154\n",
      "Epoch = 3380/10000  loss = 0.8943\n",
      "Epoch = 3390/10000  loss = 1.2651\n",
      "Epoch = 3400/10000  loss = 1.1542\n",
      "Epoch = 3410/10000  loss = 1.1839\n",
      "Epoch = 3420/10000  loss = 1.2720\n",
      "Epoch = 3430/10000  loss = 0.9097\n",
      "Epoch = 3440/10000  loss = 1.1460\n",
      "Epoch = 3450/10000  loss = 1.0960\n",
      "Epoch = 3460/10000  loss = 1.1176\n",
      "Epoch = 3470/10000  loss = 0.9176\n",
      "Epoch = 3480/10000  loss = 1.3006\n",
      "Epoch = 3490/10000  loss = 1.2456\n",
      "Epoch = 3500/10000  loss = 1.3276\n",
      "Epoch = 3510/10000  loss = 1.0282\n",
      "Epoch = 3520/10000  loss = 1.0602\n",
      "Epoch = 3530/10000  loss = 1.4119\n",
      "Epoch = 3540/10000  loss = 1.1339\n",
      "Epoch = 3550/10000  loss = 0.7730\n",
      "Epoch = 3560/10000  loss = 1.3460\n",
      "Epoch = 3570/10000  loss = 0.8470\n",
      "Epoch = 3580/10000  loss = 0.9823\n",
      "Epoch = 3590/10000  loss = 1.0389\n",
      "Epoch = 3600/10000  loss = 0.9583\n",
      "Epoch = 3610/10000  loss = 1.1245\n",
      "Epoch = 3620/10000  loss = 0.8401\n",
      "Epoch = 3630/10000  loss = 1.3252\n",
      "Epoch = 3640/10000  loss = 1.0386\n",
      "Epoch = 3650/10000  loss = 1.2040\n",
      "Epoch = 3660/10000  loss = 1.3732\n",
      "Epoch = 3670/10000  loss = 0.8952\n",
      "Epoch = 3680/10000  loss = 0.9849\n",
      "Epoch = 3690/10000  loss = 1.0797\n",
      "Epoch = 3700/10000  loss = 1.1886\n",
      "Epoch = 3710/10000  loss = 0.9230\n",
      "Epoch = 3720/10000  loss = 1.1837\n",
      "Epoch = 3730/10000  loss = 0.9346\n",
      "Epoch = 3740/10000  loss = 1.3075\n",
      "Epoch = 3750/10000  loss = 0.8882\n",
      "Epoch = 3760/10000  loss = 1.2829\n",
      "Epoch = 3770/10000  loss = 1.2698\n",
      "Epoch = 3780/10000  loss = 1.2898\n",
      "Epoch = 3790/10000  loss = 1.0279\n",
      "Epoch = 3800/10000  loss = 1.0982\n",
      "Epoch = 3810/10000  loss = 1.3069\n",
      "Epoch = 3820/10000  loss = 1.0097\n",
      "Epoch = 3830/10000  loss = 0.8355\n",
      "Epoch = 3840/10000  loss = 1.4342\n",
      "Epoch = 3850/10000  loss = 0.7460\n",
      "Epoch = 3860/10000  loss = 1.2206\n",
      "Epoch = 3870/10000  loss = 1.4736\n",
      "Epoch = 3880/10000  loss = 1.2524\n",
      "Epoch = 3890/10000  loss = 0.8419\n",
      "Epoch = 3900/10000  loss = 1.2654\n",
      "Epoch = 3910/10000  loss = 0.8739\n",
      "Epoch = 3920/10000  loss = 1.1233\n",
      "Epoch = 3930/10000  loss = 0.8319\n",
      "Epoch = 3940/10000  loss = 1.1312\n",
      "Epoch = 3950/10000  loss = 1.4422\n",
      "Epoch = 3960/10000  loss = 1.4708\n",
      "Epoch = 3970/10000  loss = 0.9047\n",
      "Epoch = 3980/10000  loss = 0.8463\n",
      "Epoch = 3990/10000  loss = 1.3461\n",
      "Epoch = 4000/10000  loss = 0.9416\n",
      "Epoch = 4010/10000  loss = 1.2466\n",
      "Epoch = 4020/10000  loss = 1.2400\n",
      "Epoch = 4030/10000  loss = 1.2715\n",
      "Epoch = 4040/10000  loss = 1.1116\n",
      "Epoch = 4050/10000  loss = 0.8881\n",
      "Epoch = 4060/10000  loss = 0.9441\n",
      "Epoch = 4070/10000  loss = 1.1393\n",
      "Epoch = 4080/10000  loss = 0.9216\n",
      "Epoch = 4090/10000  loss = 0.8365\n",
      "Epoch = 4100/10000  loss = 0.9164\n",
      "Epoch = 4110/10000  loss = 1.2164\n",
      "Epoch = 4120/10000  loss = 1.0442\n",
      "Epoch = 4130/10000  loss = 0.8002\n",
      "Epoch = 4140/10000  loss = 1.0184\n",
      "Epoch = 4150/10000  loss = 0.9893\n",
      "Epoch = 4160/10000  loss = 1.0314\n",
      "Epoch = 4170/10000  loss = 1.0671\n",
      "Epoch = 4180/10000  loss = 1.2486\n",
      "Epoch = 4190/10000  loss = 1.4821\n",
      "Epoch = 4200/10000  loss = 1.1655\n",
      "Epoch = 4210/10000  loss = 0.7154\n",
      "Epoch = 4220/10000  loss = 0.9793\n",
      "Epoch = 4230/10000  loss = 1.2387\n",
      "Epoch = 4240/10000  loss = 1.0808\n",
      "Epoch = 4250/10000  loss = 1.4410\n",
      "Epoch = 4260/10000  loss = 1.1868\n",
      "Epoch = 4270/10000  loss = 0.9098\n",
      "Epoch = 4280/10000  loss = 1.1133\n",
      "Epoch = 4290/10000  loss = 0.8810\n",
      "Epoch = 4300/10000  loss = 1.1761\n",
      "Epoch = 4310/10000  loss = 1.1984\n",
      "Epoch = 4320/10000  loss = 0.9729\n",
      "Epoch = 4330/10000  loss = 1.1117\n",
      "Epoch = 4340/10000  loss = 0.8552\n",
      "Epoch = 4350/10000  loss = 0.8654\n",
      "Epoch = 4360/10000  loss = 1.1008\n",
      "Epoch = 4370/10000  loss = 1.1616\n",
      "Epoch = 4380/10000  loss = 0.9429\n",
      "Epoch = 4390/10000  loss = 1.1285\n",
      "Epoch = 4400/10000  loss = 1.1739\n",
      "Epoch = 4410/10000  loss = 0.8834\n",
      "Epoch = 4420/10000  loss = 0.9106\n",
      "Epoch = 4430/10000  loss = 0.9521\n",
      "Epoch = 4440/10000  loss = 0.8141\n",
      "Epoch = 4450/10000  loss = 1.1923\n",
      "Epoch = 4460/10000  loss = 0.7482\n",
      "Epoch = 4470/10000  loss = 1.2496\n",
      "Epoch = 4480/10000  loss = 0.7325\n",
      "Epoch = 4490/10000  loss = 0.9332\n",
      "Epoch = 4500/10000  loss = 1.2832\n",
      "Epoch = 4510/10000  loss = 0.9221\n",
      "Epoch = 4520/10000  loss = 1.3246\n",
      "Epoch = 4530/10000  loss = 1.1780\n",
      "Epoch = 4540/10000  loss = 0.8738\n",
      "Epoch = 4550/10000  loss = 0.9186\n",
      "Epoch = 4560/10000  loss = 0.8519\n",
      "Epoch = 4570/10000  loss = 1.2518\n",
      "Epoch = 4580/10000  loss = 1.2676\n",
      "Epoch = 4590/10000  loss = 0.8076\n",
      "Epoch = 4600/10000  loss = 1.0648\n",
      "Epoch = 4610/10000  loss = 0.7052\n",
      "Epoch = 4620/10000  loss = 1.2424\n",
      "Epoch = 4630/10000  loss = 1.1800\n",
      "Epoch = 4640/10000  loss = 0.9448\n",
      "Epoch = 4650/10000  loss = 1.1937\n",
      "Epoch = 4660/10000  loss = 0.9426\n",
      "Epoch = 4670/10000  loss = 0.9530\n",
      "Epoch = 4680/10000  loss = 0.7604\n",
      "Epoch = 4690/10000  loss = 0.9371\n",
      "Epoch = 4700/10000  loss = 0.7896\n",
      "Epoch = 4710/10000  loss = 1.2129\n",
      "Epoch = 4720/10000  loss = 1.1786\n",
      "Epoch = 4730/10000  loss = 1.2093\n",
      "Epoch = 4740/10000  loss = 1.3380\n",
      "Epoch = 4750/10000  loss = 1.3923\n",
      "Epoch = 4760/10000  loss = 0.7489\n",
      "Epoch = 4770/10000  loss = 1.3644\n",
      "Epoch = 4780/10000  loss = 1.2193\n",
      "Epoch = 4790/10000  loss = 1.4067\n",
      "Epoch = 4800/10000  loss = 0.8806\n",
      "Epoch = 4810/10000  loss = 0.8194\n",
      "Epoch = 4820/10000  loss = 0.9762\n",
      "Epoch = 4830/10000  loss = 0.9046\n",
      "Epoch = 4840/10000  loss = 0.9483\n",
      "Epoch = 4850/10000  loss = 0.9647\n",
      "Epoch = 4860/10000  loss = 1.2619\n",
      "Epoch = 4870/10000  loss = 1.1052\n",
      "Epoch = 4880/10000  loss = 1.0044\n",
      "Epoch = 4890/10000  loss = 1.2088\n",
      "Epoch = 4900/10000  loss = 0.8439\n",
      "Epoch = 4910/10000  loss = 1.0916\n",
      "Epoch = 4920/10000  loss = 0.8713\n",
      "Epoch = 4930/10000  loss = 1.4616\n",
      "Epoch = 4940/10000  loss = 0.6825\n",
      "Epoch = 4950/10000  loss = 0.7148\n",
      "Epoch = 4960/10000  loss = 0.9519\n",
      "Epoch = 4970/10000  loss = 0.8558\n",
      "Epoch = 4980/10000  loss = 1.0790\n",
      "Epoch = 4990/10000  loss = 0.9269\n",
      "Epoch = 5000/10000  loss = 1.2170\n",
      "Epoch = 5010/10000  loss = 0.8656\n",
      "Epoch = 5020/10000  loss = 0.7933\n",
      "Epoch = 5030/10000  loss = 0.7958\n",
      "Epoch = 5040/10000  loss = 0.9072\n",
      "Epoch = 5050/10000  loss = 1.0024\n",
      "Epoch = 5060/10000  loss = 1.3391\n",
      "Epoch = 5070/10000  loss = 1.0825\n",
      "Epoch = 5080/10000  loss = 1.0858\n",
      "Epoch = 5090/10000  loss = 0.8817\n",
      "Epoch = 5100/10000  loss = 0.9012\n",
      "Epoch = 5110/10000  loss = 0.9505\n",
      "Epoch = 5120/10000  loss = 1.3068\n",
      "Epoch = 5130/10000  loss = 0.8004\n",
      "Epoch = 5140/10000  loss = 1.0334\n",
      "Epoch = 5150/10000  loss = 0.7347\n",
      "Epoch = 5160/10000  loss = 0.8169\n",
      "Epoch = 5170/10000  loss = 1.2740\n",
      "Epoch = 5180/10000  loss = 1.2537\n",
      "Epoch = 5190/10000  loss = 0.9331\n",
      "Epoch = 5200/10000  loss = 1.1331\n",
      "Epoch = 5210/10000  loss = 0.7034\n",
      "Epoch = 5220/10000  loss = 1.1017\n",
      "Epoch = 5230/10000  loss = 1.0387\n",
      "Epoch = 5240/10000  loss = 0.7980\n",
      "Epoch = 5250/10000  loss = 0.6744\n",
      "Epoch = 5260/10000  loss = 1.1715\n",
      "Epoch = 5270/10000  loss = 0.9485\n",
      "Epoch = 5280/10000  loss = 0.9592\n",
      "Epoch = 5290/10000  loss = 1.3716\n",
      "Epoch = 5300/10000  loss = 1.3325\n",
      "Epoch = 5310/10000  loss = 0.9023\n",
      "Epoch = 5320/10000  loss = 0.7487\n",
      "Epoch = 5330/10000  loss = 1.0708\n",
      "Epoch = 5340/10000  loss = 1.0202\n",
      "Epoch = 5350/10000  loss = 0.8443\n",
      "Epoch = 5360/10000  loss = 1.2684\n",
      "Epoch = 5370/10000  loss = 1.1602\n",
      "Epoch = 5380/10000  loss = 0.9731\n",
      "Epoch = 5390/10000  loss = 0.7774\n",
      "Epoch = 5400/10000  loss = 1.4366\n",
      "Epoch = 5410/10000  loss = 0.9977\n",
      "Epoch = 5420/10000  loss = 1.0079\n",
      "Epoch = 5430/10000  loss = 1.1129\n",
      "Epoch = 5440/10000  loss = 1.4379\n",
      "Epoch = 5450/10000  loss = 1.1661\n",
      "Epoch = 5460/10000  loss = 0.8888\n",
      "Epoch = 5470/10000  loss = 0.9195\n",
      "Epoch = 5480/10000  loss = 1.1736\n",
      "Epoch = 5490/10000  loss = 0.8782\n",
      "Epoch = 5500/10000  loss = 1.2682\n",
      "Epoch = 5510/10000  loss = 1.0733\n",
      "Epoch = 5520/10000  loss = 1.1986\n",
      "Epoch = 5530/10000  loss = 1.2111\n",
      "Epoch = 5540/10000  loss = 1.0564\n",
      "Epoch = 5550/10000  loss = 1.1186\n",
      "Epoch = 5560/10000  loss = 1.0436\n",
      "Epoch = 5570/10000  loss = 1.1331\n",
      "Epoch = 5580/10000  loss = 1.3106\n",
      "Epoch = 5590/10000  loss = 1.0239\n",
      "Epoch = 5600/10000  loss = 1.0055\n",
      "Epoch = 5610/10000  loss = 1.1808\n",
      "Epoch = 5620/10000  loss = 1.1903\n",
      "Epoch = 5630/10000  loss = 0.8724\n",
      "Epoch = 5640/10000  loss = 0.8241\n",
      "Epoch = 5650/10000  loss = 1.4689\n",
      "Epoch = 5660/10000  loss = 1.3089\n",
      "Epoch = 5670/10000  loss = 1.2799\n",
      "Epoch = 5680/10000  loss = 1.2958\n",
      "Epoch = 5690/10000  loss = 0.7759\n",
      "Epoch = 5700/10000  loss = 1.3595\n",
      "Epoch = 5710/10000  loss = 0.9257\n",
      "Epoch = 5720/10000  loss = 0.8547\n",
      "Epoch = 5730/10000  loss = 1.0247\n",
      "Epoch = 5740/10000  loss = 0.7757\n",
      "Epoch = 5750/10000  loss = 0.9375\n",
      "Epoch = 5760/10000  loss = 0.7605\n",
      "Epoch = 5770/10000  loss = 0.7510\n",
      "Epoch = 5780/10000  loss = 0.9393\n",
      "Epoch = 5790/10000  loss = 1.3022\n",
      "Epoch = 5800/10000  loss = 1.0566\n",
      "Epoch = 5810/10000  loss = 1.4448\n",
      "Epoch = 5820/10000  loss = 1.1607\n",
      "Epoch = 5830/10000  loss = 1.1168\n",
      "Epoch = 5840/10000  loss = 1.0485\n",
      "Epoch = 5850/10000  loss = 1.4281\n",
      "Epoch = 5860/10000  loss = 0.8745\n",
      "Epoch = 5870/10000  loss = 1.5471\n",
      "Epoch = 5880/10000  loss = 1.2080\n",
      "Epoch = 5890/10000  loss = 1.1943\n",
      "Epoch = 5900/10000  loss = 1.2872\n",
      "Epoch = 5910/10000  loss = 0.9096\n",
      "Epoch = 5920/10000  loss = 0.6883\n",
      "Epoch = 5930/10000  loss = 1.3189\n",
      "Epoch = 5940/10000  loss = 1.2881\n",
      "Epoch = 5950/10000  loss = 0.8565\n",
      "Epoch = 5960/10000  loss = 0.9065\n",
      "Epoch = 5970/10000  loss = 0.6983\n",
      "Epoch = 5980/10000  loss = 0.8686\n",
      "Epoch = 5990/10000  loss = 1.3204\n",
      "Epoch = 6000/10000  loss = 0.9505\n",
      "Epoch = 6010/10000  loss = 1.1817\n",
      "Epoch = 6020/10000  loss = 0.9053\n",
      "Epoch = 6030/10000  loss = 1.2359\n",
      "Epoch = 6040/10000  loss = 1.3136\n",
      "Epoch = 6050/10000  loss = 0.8196\n",
      "Epoch = 6060/10000  loss = 1.5083\n",
      "Epoch = 6070/10000  loss = 1.3430\n",
      "Epoch = 6080/10000  loss = 1.3720\n",
      "Epoch = 6090/10000  loss = 1.1859\n",
      "Epoch = 6100/10000  loss = 1.4240\n",
      "Epoch = 6110/10000  loss = 0.8418\n",
      "Epoch = 6120/10000  loss = 1.1427\n",
      "Epoch = 6130/10000  loss = 0.7798\n",
      "Epoch = 6140/10000  loss = 0.9522\n",
      "Epoch = 6150/10000  loss = 1.2025\n",
      "Epoch = 6160/10000  loss = 0.8956\n",
      "Epoch = 6170/10000  loss = 1.5134\n",
      "Epoch = 6180/10000  loss = 0.8690\n",
      "Epoch = 6190/10000  loss = 0.6965\n",
      "Epoch = 6200/10000  loss = 0.9351\n",
      "Epoch = 6210/10000  loss = 0.8713\n",
      "Epoch = 6220/10000  loss = 1.2889\n",
      "Epoch = 6230/10000  loss = 1.1998\n",
      "Epoch = 6240/10000  loss = 1.1506\n",
      "Epoch = 6250/10000  loss = 1.0842\n",
      "Epoch = 6260/10000  loss = 1.3558\n",
      "Epoch = 6270/10000  loss = 0.9334\n",
      "Epoch = 6280/10000  loss = 1.1031\n",
      "Epoch = 6290/10000  loss = 0.8256\n",
      "Epoch = 6300/10000  loss = 0.8422\n",
      "Epoch = 6310/10000  loss = 1.1337\n",
      "Epoch = 6320/10000  loss = 1.1940\n",
      "Epoch = 6330/10000  loss = 0.9119\n",
      "Epoch = 6340/10000  loss = 1.4273\n",
      "Epoch = 6350/10000  loss = 1.4090\n",
      "Epoch = 6360/10000  loss = 1.1206\n",
      "Epoch = 6370/10000  loss = 1.1415\n",
      "Epoch = 6380/10000  loss = 1.2248\n",
      "Epoch = 6390/10000  loss = 1.4067\n",
      "Epoch = 6400/10000  loss = 1.3834\n",
      "Epoch = 6410/10000  loss = 1.0371\n",
      "Epoch = 6420/10000  loss = 0.8717\n",
      "Epoch = 6430/10000  loss = 0.8320\n",
      "Epoch = 6440/10000  loss = 0.7767\n",
      "Epoch = 6450/10000  loss = 1.1066\n",
      "Epoch = 6460/10000  loss = 1.3547\n",
      "Epoch = 6470/10000  loss = 0.8277\n",
      "Epoch = 6480/10000  loss = 0.8500\n",
      "Epoch = 6490/10000  loss = 1.1562\n",
      "Epoch = 6500/10000  loss = 0.8507\n",
      "Epoch = 6510/10000  loss = 0.8591\n",
      "Epoch = 6520/10000  loss = 1.2449\n",
      "Epoch = 6530/10000  loss = 0.7668\n",
      "Epoch = 6540/10000  loss = 1.0128\n",
      "Epoch = 6550/10000  loss = 1.3497\n",
      "Epoch = 6560/10000  loss = 1.2416\n",
      "Epoch = 6570/10000  loss = 1.0880\n",
      "Epoch = 6580/10000  loss = 1.4583\n",
      "Epoch = 6590/10000  loss = 1.1302\n",
      "Epoch = 6600/10000  loss = 0.8724\n",
      "Epoch = 6610/10000  loss = 0.9623\n",
      "Epoch = 6620/10000  loss = 1.4428\n",
      "Epoch = 6630/10000  loss = 1.0706\n",
      "Epoch = 6640/10000  loss = 1.0059\n",
      "Epoch = 6650/10000  loss = 0.7612\n",
      "Epoch = 6660/10000  loss = 0.9146\n",
      "Epoch = 6670/10000  loss = 1.0041\n",
      "Epoch = 6680/10000  loss = 1.3037\n",
      "Epoch = 6690/10000  loss = 1.3126\n",
      "Epoch = 6700/10000  loss = 1.4533\n",
      "Epoch = 6710/10000  loss = 1.3227\n",
      "Epoch = 6720/10000  loss = 0.7539\n",
      "Epoch = 6730/10000  loss = 0.8876\n",
      "Epoch = 6740/10000  loss = 1.1503\n",
      "Epoch = 6750/10000  loss = 0.8774\n",
      "Epoch = 6760/10000  loss = 0.9025\n",
      "Epoch = 6770/10000  loss = 1.0525\n",
      "Epoch = 6780/10000  loss = 1.3906\n",
      "Epoch = 6790/10000  loss = 1.2070\n",
      "Epoch = 6800/10000  loss = 0.9594\n",
      "Epoch = 6810/10000  loss = 1.4085\n",
      "Epoch = 6820/10000  loss = 1.4581\n",
      "Epoch = 6830/10000  loss = 0.7893\n",
      "Epoch = 6840/10000  loss = 1.4605\n",
      "Epoch = 6850/10000  loss = 1.0109\n",
      "Epoch = 6860/10000  loss = 0.7946\n",
      "Epoch = 6870/10000  loss = 1.0813\n",
      "Epoch = 6880/10000  loss = 0.9879\n",
      "Epoch = 6890/10000  loss = 1.2822\n",
      "Epoch = 6900/10000  loss = 1.3348\n",
      "Epoch = 6910/10000  loss = 1.2086\n",
      "Epoch = 6920/10000  loss = 1.2106\n",
      "Epoch = 6930/10000  loss = 0.8163\n",
      "Epoch = 6940/10000  loss = 0.9487\n",
      "Epoch = 6950/10000  loss = 1.2059\n",
      "Epoch = 6960/10000  loss = 1.4095\n",
      "Epoch = 6970/10000  loss = 0.9110\n",
      "Epoch = 6980/10000  loss = 0.9300\n",
      "Epoch = 6990/10000  loss = 1.3248\n",
      "Epoch = 7000/10000  loss = 0.9051\n",
      "Epoch = 7010/10000  loss = 0.8261\n",
      "Epoch = 7020/10000  loss = 0.8162\n",
      "Epoch = 7030/10000  loss = 1.0047\n",
      "Epoch = 7040/10000  loss = 0.7297\n",
      "Epoch = 7050/10000  loss = 0.8134\n",
      "Epoch = 7060/10000  loss = 0.9438\n",
      "Epoch = 7070/10000  loss = 1.3829\n",
      "Epoch = 7080/10000  loss = 0.9970\n",
      "Epoch = 7090/10000  loss = 1.0987\n",
      "Epoch = 7100/10000  loss = 1.2545\n",
      "Epoch = 7110/10000  loss = 1.3159\n",
      "Epoch = 7120/10000  loss = 1.1791\n",
      "Epoch = 7130/10000  loss = 1.2862\n",
      "Epoch = 7140/10000  loss = 0.7908\n",
      "Epoch = 7150/10000  loss = 0.9055\n",
      "Epoch = 7160/10000  loss = 0.9903\n",
      "Epoch = 7170/10000  loss = 0.8182\n",
      "Epoch = 7180/10000  loss = 1.3196\n",
      "Epoch = 7190/10000  loss = 0.9251\n",
      "Epoch = 7200/10000  loss = 1.1890\n",
      "Epoch = 7210/10000  loss = 1.0255\n",
      "Epoch = 7220/10000  loss = 1.4450\n",
      "Epoch = 7230/10000  loss = 1.3397\n",
      "Epoch = 7240/10000  loss = 0.8585\n",
      "Epoch = 7250/10000  loss = 0.8651\n",
      "Epoch = 7260/10000  loss = 1.3519\n",
      "Epoch = 7270/10000  loss = 1.3389\n",
      "Epoch = 7280/10000  loss = 0.9555\n",
      "Epoch = 7290/10000  loss = 0.9282\n",
      "Epoch = 7300/10000  loss = 0.8631\n",
      "Epoch = 7310/10000  loss = 1.1979\n",
      "Epoch = 7320/10000  loss = 1.4473\n",
      "Epoch = 7330/10000  loss = 0.8909\n",
      "Epoch = 7340/10000  loss = 1.4213\n",
      "Epoch = 7350/10000  loss = 0.7361\n",
      "Epoch = 7360/10000  loss = 1.2200\n",
      "Epoch = 7370/10000  loss = 1.1397\n",
      "Epoch = 7380/10000  loss = 1.1423\n",
      "Epoch = 7390/10000  loss = 1.1088\n",
      "Epoch = 7400/10000  loss = 0.9998\n",
      "Epoch = 7410/10000  loss = 0.9944\n",
      "Epoch = 7420/10000  loss = 0.7680\n",
      "Epoch = 7430/10000  loss = 1.2652\n",
      "Epoch = 7440/10000  loss = 1.2441\n",
      "Epoch = 7450/10000  loss = 1.5291\n",
      "Epoch = 7460/10000  loss = 1.1149\n",
      "Epoch = 7470/10000  loss = 0.8071\n",
      "Epoch = 7480/10000  loss = 0.8624\n",
      "Epoch = 7490/10000  loss = 1.0498\n",
      "Epoch = 7500/10000  loss = 1.1655\n",
      "Epoch = 7510/10000  loss = 1.4127\n",
      "Epoch = 7520/10000  loss = 1.2996\n",
      "Epoch = 7530/10000  loss = 0.9542\n",
      "Epoch = 7540/10000  loss = 1.1369\n",
      "Epoch = 7550/10000  loss = 0.8795\n",
      "Epoch = 7560/10000  loss = 1.3795\n",
      "Epoch = 7570/10000  loss = 0.8408\n",
      "Epoch = 7580/10000  loss = 1.1097\n",
      "Epoch = 7590/10000  loss = 0.9173\n",
      "Epoch = 7600/10000  loss = 1.0187\n",
      "Epoch = 7610/10000  loss = 1.1620\n",
      "Epoch = 7620/10000  loss = 0.7874\n",
      "Epoch = 7630/10000  loss = 0.7688\n",
      "Epoch = 7640/10000  loss = 0.7819\n",
      "Epoch = 7650/10000  loss = 1.0127\n",
      "Epoch = 7660/10000  loss = 1.1476\n",
      "Epoch = 7670/10000  loss = 1.3775\n",
      "Epoch = 7680/10000  loss = 0.9074\n",
      "Epoch = 7690/10000  loss = 0.9576\n",
      "Epoch = 7700/10000  loss = 1.0508\n",
      "Epoch = 7710/10000  loss = 1.1102\n",
      "Epoch = 7720/10000  loss = 0.8606\n",
      "Epoch = 7730/10000  loss = 1.4443\n",
      "Epoch = 7740/10000  loss = 1.3211\n",
      "Epoch = 7750/10000  loss = 0.9263\n",
      "Epoch = 7760/10000  loss = 1.2523\n",
      "Epoch = 7770/10000  loss = 1.2639\n",
      "Epoch = 7780/10000  loss = 1.3559\n",
      "Epoch = 7790/10000  loss = 0.8894\n",
      "Epoch = 7800/10000  loss = 0.7958\n",
      "Epoch = 7810/10000  loss = 0.8695\n",
      "Epoch = 7820/10000  loss = 1.4158\n",
      "Epoch = 7830/10000  loss = 1.0665\n",
      "Epoch = 7840/10000  loss = 1.0249\n",
      "Epoch = 7850/10000  loss = 1.3351\n",
      "Epoch = 7860/10000  loss = 1.2768\n",
      "Epoch = 7870/10000  loss = 1.2394\n",
      "Epoch = 7880/10000  loss = 1.1326\n",
      "Epoch = 7890/10000  loss = 1.3902\n",
      "Epoch = 7900/10000  loss = 0.8757\n",
      "Epoch = 7910/10000  loss = 1.4631\n",
      "Epoch = 7920/10000  loss = 1.3857\n",
      "Epoch = 7930/10000  loss = 1.1542\n",
      "Epoch = 7940/10000  loss = 1.3293\n",
      "Epoch = 7950/10000  loss = 1.2016\n",
      "Epoch = 7960/10000  loss = 1.1278\n",
      "Epoch = 7970/10000  loss = 0.7387\n",
      "Epoch = 7980/10000  loss = 0.7327\n",
      "Epoch = 7990/10000  loss = 1.2274\n",
      "Epoch = 8000/10000  loss = 1.1182\n",
      "Epoch = 8010/10000  loss = 1.0964\n",
      "Epoch = 8020/10000  loss = 1.0828\n",
      "Epoch = 8030/10000  loss = 0.7263\n",
      "Epoch = 8040/10000  loss = 1.5983\n",
      "Epoch = 8050/10000  loss = 1.4812\n",
      "Epoch = 8060/10000  loss = 1.0190\n",
      "Epoch = 8070/10000  loss = 0.7934\n",
      "Epoch = 8080/10000  loss = 1.3448\n",
      "Epoch = 8090/10000  loss = 1.2142\n",
      "Epoch = 8100/10000  loss = 1.0648\n",
      "Epoch = 8110/10000  loss = 0.8784\n",
      "Epoch = 8120/10000  loss = 0.8805\n",
      "Epoch = 8130/10000  loss = 0.9326\n",
      "Epoch = 8140/10000  loss = 0.7973\n",
      "Epoch = 8150/10000  loss = 1.4062\n",
      "Epoch = 8160/10000  loss = 0.8684\n",
      "Epoch = 8170/10000  loss = 0.7854\n",
      "Epoch = 8180/10000  loss = 0.7859\n",
      "Epoch = 8190/10000  loss = 0.8783\n",
      "Epoch = 8200/10000  loss = 1.1059\n",
      "Epoch = 8210/10000  loss = 0.9604\n",
      "Epoch = 8220/10000  loss = 1.2557\n",
      "Epoch = 8230/10000  loss = 1.0956\n",
      "Epoch = 8240/10000  loss = 0.9858\n",
      "Epoch = 8250/10000  loss = 1.2396\n",
      "Epoch = 8260/10000  loss = 0.8477\n",
      "Epoch = 8270/10000  loss = 1.3105\n",
      "Epoch = 8280/10000  loss = 1.0931\n",
      "Epoch = 8290/10000  loss = 1.3212\n",
      "Epoch = 8300/10000  loss = 0.8762\n",
      "Epoch = 8310/10000  loss = 1.1846\n",
      "Epoch = 8320/10000  loss = 0.8755\n",
      "Epoch = 8330/10000  loss = 0.9229\n",
      "Epoch = 8340/10000  loss = 0.7875\n",
      "Epoch = 8350/10000  loss = 0.8520\n",
      "Epoch = 8360/10000  loss = 0.8588\n",
      "Epoch = 8370/10000  loss = 0.7181\n",
      "Epoch = 8380/10000  loss = 1.1333\n",
      "Epoch = 8390/10000  loss = 0.8742\n",
      "Epoch = 8400/10000  loss = 1.4518\n",
      "Epoch = 8410/10000  loss = 1.0361\n",
      "Epoch = 8420/10000  loss = 1.1076\n",
      "Epoch = 8430/10000  loss = 0.8458\n",
      "Epoch = 8440/10000  loss = 1.0414\n",
      "Epoch = 8450/10000  loss = 1.2265\n",
      "Epoch = 8460/10000  loss = 1.1570\n",
      "Epoch = 8470/10000  loss = 1.1799\n",
      "Epoch = 8480/10000  loss = 1.4295\n",
      "Epoch = 8490/10000  loss = 1.1759\n",
      "Epoch = 8500/10000  loss = 0.9616\n",
      "Epoch = 8510/10000  loss = 1.1750\n",
      "Epoch = 8520/10000  loss = 0.8029\n",
      "Epoch = 8530/10000  loss = 1.3213\n",
      "Epoch = 8540/10000  loss = 0.9156\n",
      "Epoch = 8550/10000  loss = 1.5380\n",
      "Epoch = 8560/10000  loss = 0.7962\n",
      "Epoch = 8570/10000  loss = 0.9781\n",
      "Epoch = 8580/10000  loss = 1.0213\n",
      "Epoch = 8590/10000  loss = 1.3292\n",
      "Epoch = 8600/10000  loss = 0.6683\n",
      "Epoch = 8610/10000  loss = 0.7514\n",
      "Epoch = 8620/10000  loss = 0.7469\n",
      "Epoch = 8630/10000  loss = 1.2520\n",
      "Epoch = 8640/10000  loss = 1.0330\n",
      "Epoch = 8650/10000  loss = 1.4729\n",
      "Epoch = 8660/10000  loss = 0.9971\n",
      "Epoch = 8670/10000  loss = 0.9282\n",
      "Epoch = 8680/10000  loss = 1.1843\n",
      "Epoch = 8690/10000  loss = 1.2751\n",
      "Epoch = 8700/10000  loss = 0.9594\n",
      "Epoch = 8710/10000  loss = 1.2113\n",
      "Epoch = 8720/10000  loss = 0.6410\n",
      "Epoch = 8730/10000  loss = 0.6499\n",
      "Epoch = 8740/10000  loss = 1.1148\n",
      "Epoch = 8750/10000  loss = 1.1595\n",
      "Epoch = 8760/10000  loss = 0.9498\n",
      "Epoch = 8770/10000  loss = 0.9282\n",
      "Epoch = 8780/10000  loss = 1.4511\n",
      "Epoch = 8790/10000  loss = 0.8735\n",
      "Epoch = 8800/10000  loss = 1.1103\n",
      "Epoch = 8810/10000  loss = 0.9003\n",
      "Epoch = 8820/10000  loss = 0.7318\n",
      "Epoch = 8830/10000  loss = 1.3684\n",
      "Epoch = 8840/10000  loss = 1.0546\n",
      "Epoch = 8850/10000  loss = 1.0481\n",
      "Epoch = 8860/10000  loss = 1.1399\n",
      "Epoch = 8870/10000  loss = 1.2420\n",
      "Epoch = 8880/10000  loss = 1.3571\n",
      "Epoch = 8890/10000  loss = 1.2647\n",
      "Epoch = 8900/10000  loss = 1.2082\n",
      "Epoch = 8910/10000  loss = 1.0224\n",
      "Epoch = 8920/10000  loss = 1.1639\n",
      "Epoch = 8930/10000  loss = 0.8581\n",
      "Epoch = 8940/10000  loss = 0.9367\n",
      "Epoch = 8950/10000  loss = 0.7943\n",
      "Epoch = 8960/10000  loss = 0.9841\n",
      "Epoch = 8970/10000  loss = 1.1466\n",
      "Epoch = 8980/10000  loss = 1.3731\n",
      "Epoch = 8990/10000  loss = 1.0969\n",
      "Epoch = 9000/10000  loss = 0.7920\n",
      "Epoch = 9010/10000  loss = 1.1872\n",
      "Epoch = 9020/10000  loss = 1.3214\n",
      "Epoch = 9030/10000  loss = 1.1283\n",
      "Epoch = 9040/10000  loss = 1.1218\n",
      "Epoch = 9050/10000  loss = 1.0661\n",
      "Epoch = 9060/10000  loss = 0.8328\n",
      "Epoch = 9070/10000  loss = 0.8942\n",
      "Epoch = 9080/10000  loss = 1.0231\n",
      "Epoch = 9090/10000  loss = 1.1923\n",
      "Epoch = 9100/10000  loss = 1.3614\n",
      "Epoch = 9110/10000  loss = 1.0474\n",
      "Epoch = 9120/10000  loss = 1.3237\n",
      "Epoch = 9130/10000  loss = 0.9441\n",
      "Epoch = 9140/10000  loss = 1.3735\n",
      "Epoch = 9150/10000  loss = 0.8749\n",
      "Epoch = 9160/10000  loss = 0.7132\n",
      "Epoch = 9170/10000  loss = 1.4209\n",
      "Epoch = 9180/10000  loss = 1.1341\n",
      "Epoch = 9190/10000  loss = 1.2546\n",
      "Epoch = 9200/10000  loss = 1.3028\n",
      "Epoch = 9210/10000  loss = 1.4542\n",
      "Epoch = 9220/10000  loss = 1.2589\n",
      "Epoch = 9230/10000  loss = 1.2768\n",
      "Epoch = 9240/10000  loss = 1.0249\n",
      "Epoch = 9250/10000  loss = 1.2609\n",
      "Epoch = 9260/10000  loss = 0.7176\n",
      "Epoch = 9270/10000  loss = 0.8603\n",
      "Epoch = 9280/10000  loss = 0.8261\n",
      "Epoch = 9290/10000  loss = 1.2306\n",
      "Epoch = 9300/10000  loss = 1.1914\n",
      "Epoch = 9310/10000  loss = 0.9283\n",
      "Epoch = 9320/10000  loss = 0.8607\n",
      "Epoch = 9330/10000  loss = 0.8739\n",
      "Epoch = 9340/10000  loss = 1.3560\n",
      "Epoch = 9350/10000  loss = 0.8060\n",
      "Epoch = 9360/10000  loss = 0.9349\n",
      "Epoch = 9370/10000  loss = 1.3731\n",
      "Epoch = 9380/10000  loss = 1.2487\n",
      "Epoch = 9390/10000  loss = 0.8661\n",
      "Epoch = 9400/10000  loss = 0.9847\n",
      "Epoch = 9410/10000  loss = 0.9912\n",
      "Epoch = 9420/10000  loss = 1.2223\n",
      "Epoch = 9430/10000  loss = 0.8429\n",
      "Epoch = 9440/10000  loss = 0.8872\n",
      "Epoch = 9450/10000  loss = 1.3157\n",
      "Epoch = 9460/10000  loss = 1.1236\n",
      "Epoch = 9470/10000  loss = 0.9629\n",
      "Epoch = 9480/10000  loss = 1.4541\n",
      "Epoch = 9490/10000  loss = 0.8970\n",
      "Epoch = 9500/10000  loss = 0.9253\n",
      "Epoch = 9510/10000  loss = 1.0558\n",
      "Epoch = 9520/10000  loss = 1.0075\n",
      "Epoch = 9530/10000  loss = 0.8895\n",
      "Epoch = 9540/10000  loss = 0.9667\n",
      "Epoch = 9550/10000  loss = 0.7882\n",
      "Epoch = 9560/10000  loss = 1.0399\n",
      "Epoch = 9570/10000  loss = 1.0708\n",
      "Epoch = 9580/10000  loss = 1.4607\n",
      "Epoch = 9590/10000  loss = 1.3549\n",
      "Epoch = 9600/10000  loss = 0.7470\n",
      "Epoch = 9610/10000  loss = 1.3204\n",
      "Epoch = 9620/10000  loss = 0.8069\n",
      "Epoch = 9630/10000  loss = 0.9766\n",
      "Epoch = 9640/10000  loss = 0.8778\n",
      "Epoch = 9650/10000  loss = 1.3084\n",
      "Epoch = 9660/10000  loss = 1.1207\n",
      "Epoch = 9670/10000  loss = 1.3239\n",
      "Epoch = 9680/10000  loss = 1.1591\n",
      "Epoch = 9690/10000  loss = 0.9290\n",
      "Epoch = 9700/10000  loss = 0.9341\n",
      "Epoch = 9710/10000  loss = 1.1603\n",
      "Epoch = 9720/10000  loss = 0.8847\n",
      "Epoch = 9730/10000  loss = 1.2672\n",
      "Epoch = 9740/10000  loss = 0.9751\n",
      "Epoch = 9750/10000  loss = 0.7660\n",
      "Epoch = 9760/10000  loss = 1.0834\n",
      "Epoch = 9770/10000  loss = 1.1654\n",
      "Epoch = 9780/10000  loss = 0.7944\n",
      "Epoch = 9790/10000  loss = 1.4364\n",
      "Epoch = 9800/10000  loss = 0.7043\n",
      "Epoch = 9810/10000  loss = 1.2638\n",
      "Epoch = 9820/10000  loss = 1.0928\n",
      "Epoch = 9830/10000  loss = 0.9837\n",
      "Epoch = 9840/10000  loss = 0.8582\n",
      "Epoch = 9850/10000  loss = 0.7282\n",
      "Epoch = 9860/10000  loss = 1.1580\n",
      "Epoch = 9870/10000  loss = 1.2117\n",
      "Epoch = 9880/10000  loss = 1.3185\n",
      "Epoch = 9890/10000  loss = 1.1255\n",
      "Epoch = 9900/10000  loss = 0.8271\n",
      "Epoch = 9910/10000  loss = 0.8690\n",
      "Epoch = 9920/10000  loss = 0.8806\n",
      "Epoch = 9930/10000  loss = 0.8242\n",
      "Epoch = 9940/10000  loss = 1.0840\n",
      "Epoch = 9950/10000  loss = 1.0274\n",
      "Epoch = 9960/10000  loss = 0.9380\n",
      "Epoch = 9970/10000  loss = 1.3317\n",
      "Epoch = 9980/10000  loss = 1.2193\n",
      "Epoch = 9990/10000  loss = 0.8918\n",
      "Epoch = 10000/10000  loss = 0.7403\n"
     ]
    }
   ],
   "source": [
    "my_model(train_dl,model,loss_fn,10000,opt)"
   ]
  },
  {
   "cell_type": "code",
   "execution_count": 145,
   "id": "e46b3e05-7604-4796-b105-76963ad443d9",
   "metadata": {},
   "outputs": [
    {
     "data": {
      "text/plain": [
       "tensor([[ 56.9363,  70.3363],\n",
       "        [ 82.0393, 100.6358],\n",
       "        [118.1768, 132.8524],\n",
       "        [ 20.8138,  37.7986],\n",
       "        [101.8646, 118.5256],\n",
       "        [ 55.6904,  69.2623],\n",
       "        [ 81.8976, 100.7357],\n",
       "        [118.4726, 133.4628],\n",
       "        [ 22.0597,  38.8726],\n",
       "        [102.9688, 119.6995],\n",
       "        [ 56.7945,  70.4362],\n",
       "        [ 80.7934,  99.5618],\n",
       "        [118.3185, 132.7525],\n",
       "        [ 19.7096,  36.6247],\n",
       "        [103.1105, 119.5995]], grad_fn=<AddmmBackward>)"
      ]
     },
     "execution_count": 145,
     "metadata": {},
     "output_type": "execute_result"
    }
   ],
   "source": [
    "predct = model(inputs)\n",
    "predct"
   ]
  },
  {
   "cell_type": "code",
   "execution_count": 146,
   "id": "a200e9ed-4b2d-447e-8c3f-0fcdab2810aa",
   "metadata": {},
   "outputs": [
    {
     "data": {
      "text/plain": [
       "tensor([[ 56.,  70.],\n",
       "        [ 81., 101.],\n",
       "        [119., 133.],\n",
       "        [ 22.,  37.],\n",
       "        [103., 119.],\n",
       "        [ 57.,  69.],\n",
       "        [ 80., 102.],\n",
       "        [118., 132.],\n",
       "        [ 21.,  38.],\n",
       "        [104., 118.],\n",
       "        [ 57.,  69.],\n",
       "        [ 82., 100.],\n",
       "        [118., 134.],\n",
       "        [ 20.,  38.],\n",
       "        [102., 120.]])"
      ]
     },
     "execution_count": 146,
     "metadata": {},
     "output_type": "execute_result"
    }
   ],
   "source": [
    "targets"
   ]
  },
  {
   "cell_type": "code",
   "execution_count": 1,
   "id": "f343eb4b-677d-426c-af5c-03be07cef319",
   "metadata": {},
   "outputs": [
    {
     "ename": "SyntaxError",
     "evalue": "invalid syntax (<ipython-input-1-56e12c41cf9d>, line 1)",
     "output_type": "error",
     "traceback": [
      "\u001b[0;36m  File \u001b[0;32m\"<ipython-input-1-56e12c41cf9d>\"\u001b[0;36m, line \u001b[0;32m1\u001b[0m\n\u001b[0;31m    import scikit-learn\u001b[0m\n\u001b[0m                 ^\u001b[0m\n\u001b[0;31mSyntaxError\u001b[0m\u001b[0;31m:\u001b[0m invalid syntax\n"
     ]
    }
   ],
   "source": []
  },
  {
   "cell_type": "code",
   "execution_count": null,
   "id": "2444b495-6fee-4a10-a831-5ae467ec87da",
   "metadata": {},
   "outputs": [],
   "source": []
  },
  {
   "cell_type": "code",
   "execution_count": null,
   "id": "30014b05-0704-417a-967b-eb4be6df9a60",
   "metadata": {},
   "outputs": [],
   "source": []
  },
  {
   "cell_type": "code",
   "execution_count": null,
   "id": "95cc0f73-0b86-4a7c-89d1-7586f0ac17a5",
   "metadata": {},
   "outputs": [],
   "source": []
  },
  {
   "cell_type": "code",
   "execution_count": null,
   "id": "f56a904b-751f-44ac-89b0-c8e346a52d4e",
   "metadata": {},
   "outputs": [],
   "source": []
  },
  {
   "cell_type": "code",
   "execution_count": null,
   "id": "5aad63ad-785d-4269-991e-f689fe9022c7",
   "metadata": {},
   "outputs": [],
   "source": []
  },
  {
   "cell_type": "code",
   "execution_count": null,
   "id": "36f54679-198f-494f-89f0-8b314bfc2355",
   "metadata": {},
   "outputs": [],
   "source": []
  },
  {
   "cell_type": "code",
   "execution_count": null,
   "id": "43b80419-b446-4b7c-9eeb-489ccb4484b6",
   "metadata": {},
   "outputs": [],
   "source": []
  },
  {
   "cell_type": "code",
   "execution_count": null,
   "id": "743645e6-9270-4251-b288-4808bceba4fa",
   "metadata": {},
   "outputs": [],
   "source": []
  },
  {
   "cell_type": "code",
   "execution_count": null,
   "id": "d97629b2-bd95-4441-a842-77b2e4ea84c8",
   "metadata": {},
   "outputs": [],
   "source": []
  },
  {
   "cell_type": "code",
   "execution_count": null,
   "id": "168d2fb1-ed7a-4a51-8067-f823b70b891c",
   "metadata": {},
   "outputs": [],
   "source": []
  },
  {
   "cell_type": "code",
   "execution_count": null,
   "id": "1e5bd2a9-f80a-4093-b82d-fc2ba9c5fe65",
   "metadata": {},
   "outputs": [],
   "source": []
  },
  {
   "cell_type": "code",
   "execution_count": null,
   "id": "a45361e2-460e-4450-88f9-e30a4bd09641",
   "metadata": {},
   "outputs": [],
   "source": []
  },
  {
   "cell_type": "code",
   "execution_count": null,
   "id": "461434d5-1f3d-4420-9672-513b7aea75d1",
   "metadata": {},
   "outputs": [],
   "source": []
  },
  {
   "cell_type": "code",
   "execution_count": null,
   "id": "c8e6cbc6-9ce2-4b80-b73e-aedab37d7ed4",
   "metadata": {},
   "outputs": [],
   "source": []
  },
  {
   "cell_type": "code",
   "execution_count": null,
   "id": "bdc819ae-789f-4a21-891a-d22574da4e10",
   "metadata": {},
   "outputs": [],
   "source": []
  },
  {
   "cell_type": "code",
   "execution_count": null,
   "id": "7b9e2219-5cde-4ebc-b023-d5fad9039fd1",
   "metadata": {},
   "outputs": [],
   "source": []
  },
  {
   "cell_type": "code",
   "execution_count": null,
   "id": "81dfc13a-0381-4191-9fe5-a15af0bc9bb1",
   "metadata": {},
   "outputs": [],
   "source": []
  },
  {
   "cell_type": "code",
   "execution_count": null,
   "id": "859103f4-026e-4330-b48c-88f27dd4bc46",
   "metadata": {},
   "outputs": [],
   "source": []
  },
  {
   "cell_type": "code",
   "execution_count": null,
   "id": "f03fe97b-9cc4-4b6d-be4f-c7c380939ad6",
   "metadata": {},
   "outputs": [],
   "source": []
  },
  {
   "cell_type": "code",
   "execution_count": null,
   "id": "4817df65-3176-4cdc-b5d6-f52e3b055da9",
   "metadata": {},
   "outputs": [],
   "source": []
  },
  {
   "cell_type": "code",
   "execution_count": null,
   "id": "47463fdf-a267-4c7b-9e12-a412bea7f1cd",
   "metadata": {},
   "outputs": [],
   "source": []
  },
  {
   "cell_type": "code",
   "execution_count": null,
   "id": "7004180e-274e-4f0d-90a0-906e691cebf1",
   "metadata": {},
   "outputs": [],
   "source": []
  },
  {
   "cell_type": "code",
   "execution_count": 63,
   "id": "0128ab3d-fce5-4700-8fda-3eb40c8cef34",
   "metadata": {},
   "outputs": [],
   "source": [
    "import numpy as np"
   ]
  },
  {
   "cell_type": "code",
   "execution_count": 72,
   "id": "1e9d9d20-0901-4bc9-bdee-0ab207261cd5",
   "metadata": {},
   "outputs": [],
   "source": [
    "x = np.array([[1,2,3],[8,9,10]])"
   ]
  },
  {
   "cell_type": "code",
   "execution_count": 73,
   "id": "428e926c-30bc-4591-bb47-d6c4931c1c7b",
   "metadata": {},
   "outputs": [
    {
     "data": {
      "text/plain": [
       "array([[ 1,  2,  3],\n",
       "       [ 8,  9, 10]])"
      ]
     },
     "execution_count": 73,
     "metadata": {},
     "output_type": "execute_result"
    }
   ],
   "source": [
    "x"
   ]
  },
  {
   "cell_type": "code",
   "execution_count": 88,
   "id": "29f54188-7659-4020-a878-4017820f07a4",
   "metadata": {},
   "outputs": [
    {
     "data": {
      "text/plain": [
       "array([[1, 2, 3]])"
      ]
     },
     "execution_count": 88,
     "metadata": {},
     "output_type": "execute_result"
    }
   ],
   "source": [
    "x[0:1]"
   ]
  },
  {
   "cell_type": "code",
   "execution_count": null,
   "id": "980498e5-f331-49d2-8629-aa3b8c72ccfb",
   "metadata": {},
   "outputs": [],
   "source": []
  }
 ],
 "metadata": {
  "kernelspec": {
   "display_name": "Python 3",
   "language": "python",
   "name": "python3"
  },
  "language_info": {
   "codemirror_mode": {
    "name": "ipython",
    "version": 3
   },
   "file_extension": ".py",
   "mimetype": "text/x-python",
   "name": "python",
   "nbconvert_exporter": "python",
   "pygments_lexer": "ipython3",
   "version": "3.8.11"
  }
 },
 "nbformat": 4,
 "nbformat_minor": 5
}
